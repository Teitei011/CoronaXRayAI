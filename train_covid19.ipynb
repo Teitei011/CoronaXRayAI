{
  "nbformat": 4,
  "nbformat_minor": 0,
  "metadata": {
    "kernelspec": {
      "display_name": "Python 3",
      "language": "python",
      "name": "python3"
    },
    "language_info": {
      "codemirror_mode": {
        "name": "ipython",
        "version": 3
      },
      "file_extension": ".py",
      "mimetype": "text/x-python",
      "name": "python",
      "nbconvert_exporter": "python",
      "pygments_lexer": "ipython3",
      "version": "3.8.2"
    },
    "colab": {
      "name": "train_covid19.ipynb",
      "provenance": [],
      "collapsed_sections": [],
      "toc_visible": true
    },
    "accelerator": "GPU"
  },
  "cells": [
    {
      "cell_type": "code",
      "metadata": {
        "id": "fOZPBxKPI7JO",
        "colab_type": "code",
        "colab": {}
      },
      "source": [
        ""
      ],
      "execution_count": 0,
      "outputs": []
    },
    {
      "cell_type": "code",
      "metadata": {
        "id": "HKYDvvkj63OY",
        "colab_type": "code",
        "outputId": "3bca34f2-115e-4938-9ac4-6b589e5a0709",
        "colab": {
          "base_uri": "https://localhost:8080/",
          "height": 121
        }
      },
      "source": [
        "!git clone https://github.com/Teitei011/X_Ray_Corona"
      ],
      "execution_count": 24,
      "outputs": [
        {
          "output_type": "stream",
          "text": [
            "Cloning into 'X_Ray_Corona'...\n",
            "remote: Enumerating objects: 55, done.\u001b[K\n",
            "remote: Counting objects: 100% (55/55), done.\u001b[K\n",
            "remote: Compressing objects: 100% (54/54), done.\u001b[K\n",
            "remote: Total 55 (delta 0), reused 55 (delta 0), pack-reused 0\u001b[K\n",
            "Unpacking objects: 100% (55/55), done.\n"
          ],
          "name": "stdout"
        }
      ]
    },
    {
      "cell_type": "code",
      "metadata": {
        "id": "2SDj0DxJ63kt",
        "colab_type": "code",
        "outputId": "02710a45-0c36-4ed1-e806-4599dfc7fc52",
        "colab": {
          "base_uri": "https://localhost:8080/",
          "height": 34
        }
      },
      "source": [
        "cd X_Ray_Corona/dataset"
      ],
      "execution_count": 25,
      "outputs": [
        {
          "output_type": "stream",
          "text": [
            "/content/X_Ray_Corona/dataset/X_Ray_Corona/dataset\n"
          ],
          "name": "stdout"
        }
      ]
    },
    {
      "cell_type": "code",
      "metadata": {
        "id": "geyTKi3BRJ7S",
        "colab_type": "code",
        "outputId": "c5cc0c6c-b3f1-4d66-bc48-f333c04fa597",
        "colab": {
          "base_uri": "https://localhost:8080/",
          "height": 124
        }
      },
      "source": [
        "from google.colab import drive\n",
        "drive.mount('/content/drive')"
      ],
      "execution_count": 27,
      "outputs": [
        {
          "output_type": "stream",
          "text": [
            "Go to this URL in a browser: https://accounts.google.com/o/oauth2/auth?client_id=947318989803-6bn6qk8qdgf4n4g3pfee6491hc0brc4i.apps.googleusercontent.com&redirect_uri=urn%3aietf%3awg%3aoauth%3a2.0%3aoob&response_type=code&scope=email%20https%3a%2f%2fwww.googleapis.com%2fauth%2fdocs.test%20https%3a%2f%2fwww.googleapis.com%2fauth%2fdrive%20https%3a%2f%2fwww.googleapis.com%2fauth%2fdrive.photos.readonly%20https%3a%2f%2fwww.googleapis.com%2fauth%2fpeopleapi.readonly\n",
            "\n",
            "Enter your authorization code:\n",
            "··········\n",
            "Mounted at /content/drive\n"
          ],
          "name": "stdout"
        }
      ]
    },
    {
      "cell_type": "markdown",
      "metadata": {
        "id": "jtBWXMM1AaxZ",
        "colab_type": "text"
      },
      "source": [
        "## Importing "
      ]
    },
    {
      "cell_type": "code",
      "metadata": {
        "id": "59wqI8I6nkze",
        "colab_type": "code",
        "colab": {}
      },
      "source": [
        "from tensorflow.keras.preprocessing.image import ImageDataGenerator\n",
        "from tensorflow.keras.layers import AveragePooling2D\n",
        "from sklearn.model_selection import train_test_split\n",
        "from tensorflow.keras.utils import to_categorical\n",
        "from sklearn.metrics import classification_report\n",
        "from sklearn.preprocessing import LabelBinarizer\n",
        "from tensorflow.keras.applications import VGG16\n",
        "from tensorflow.keras.optimizers import Adam\n",
        "from sklearn.metrics import confusion_matrix\n",
        "from tensorflow.keras.layers import Dropout\n",
        "from tensorflow.keras.layers import Flatten\n",
        "from tensorflow.keras.layers import Dense\n",
        "from tensorflow.keras.layers import Input\n",
        "from tensorflow.keras.models import Model\n",
        "import matplotlib.pyplot as plt\n",
        "from imutils import paths\n",
        "import numpy as np\n",
        "import argparse\n",
        "import time \n",
        "import cv2\n",
        "import os\n"
      ],
      "execution_count": 0,
      "outputs": []
    },
    {
      "cell_type": "markdown",
      "metadata": {
        "id": "Q_h4qMSf3ilm",
        "colab_type": "text"
      },
      "source": [
        "<center> <h2> </h2></center>"
      ]
    },
    {
      "cell_type": "code",
      "metadata": {
        "id": "xclPmVSUluwL",
        "colab_type": "code",
        "colab": {}
      },
      "source": [
        "path = \"/content/drive/My Drive/Colab Notebooks/Covid19/\"\n",
        "file_path = \"/content/drive/My Drive/Colab Notebooks/Covid19/Dataset\"\n",
        "# file_path = \"/content/X_Ray_Corona/dataset\"\n",
        "args = [file_path, \"plot.png\"]\n",
        "\n",
        "\n",
        "# Initialize the initial learning rate, number of epochs to train for,  batch size\n",
        "INIT_LR = 1e-3\n",
        "EPOCHS = 25\n",
        "BS = 8"
      ],
      "execution_count": 0,
      "outputs": []
    },
    {
      "cell_type": "markdown",
      "metadata": {
        "id": "SKlaE5BN4An3",
        "colab_type": "text"
      },
      "source": [
        "## Listing the images just to see if it's working \n",
        "\n"
      ]
    },
    {
      "cell_type": "code",
      "metadata": {
        "id": "ABN58TCrnW10",
        "colab_type": "code",
        "outputId": "1bc785c3-4bd9-4077-a43f-29483c3a7e95",
        "colab": {
          "base_uri": "https://localhost:8080/",
          "height": 54
        }
      },
      "source": [
        "print(list(paths.list_images(file_path)))"
      ],
      "execution_count": 30,
      "outputs": [
        {
          "output_type": "stream",
          "text": [
            "['/content/drive/My Drive/Colab Notebooks/Covid19/Dataset/Covid/5e6dd879fde9502400e58b2f.jpeg', '/content/drive/My Drive/Colab Notebooks/Covid19/Dataset/Covid/7EF28E12-F628-4BEC-A8C5-E6277C2E4F60.png', '/content/drive/My Drive/Colab Notebooks/Covid19/Dataset/Covid/1312A392-67A3-4EBF-9319-810CF6DA5EF6.jpeg', '/content/drive/My Drive/Colab Notebooks/Covid19/Dataset/Covid/88de9d8c39e946abd495b37cd07d89e5-0666-0.jpg', '/content/drive/My Drive/Colab Notebooks/Covid19/Dataset/Covid/80446565-E090-4187-A031-9D3CEAA586C8.jpeg', '/content/drive/My Drive/Colab Notebooks/Covid19/Dataset/Covid/35AF5C3B-D04D-4B4B-92B7-CB1F67D83085.jpeg', '/content/drive/My Drive/Colab Notebooks/Covid19/Dataset/Covid/D5ACAA93-C779-4E22-ADFA-6A220489F840.jpeg', '/content/drive/My Drive/Colab Notebooks/Covid19/Dataset/Covid/1-s2.0-S0929664620300449-gr3_lrg-c.jpg', '/content/drive/My Drive/Colab Notebooks/Covid19/Dataset/Covid/191F3B3A-2879-4EF3-BE56-EE0D2B5AAEE3.jpeg', '/content/drive/My Drive/Colab Notebooks/Covid19/Dataset/Covid/1.CXRCTThoraximagesofCOVID-19fromSingapore.pdf-001-fig2b.png', '/content/drive/My Drive/Colab Notebooks/Covid19/Dataset/Covid/4-x-day4.jpg', '/content/drive/My Drive/Colab Notebooks/Covid19/Dataset/Covid/58cb9263f16e94305c730685358e4e_jumbo.jpeg', '/content/drive/My Drive/Colab Notebooks/Covid19/Dataset/Covid/88de9d8c39e946abd495b37cd07d89e5-6531-0.jpg', '/content/drive/My Drive/Colab Notebooks/Covid19/Dataset/Covid/1.CXRCTThoraximagesofCOVID-19fromSingapore.pdf-003-fig4a.png', '/content/drive/My Drive/Colab Notebooks/Covid19/Dataset/Covid/171CB377-62FF-4B76-906C-F3787A01CB2E.jpeg', '/content/drive/My Drive/Colab Notebooks/Covid19/Dataset/Covid/1-s2.0-S1684118220300608-main.pdf-002.jpg', '/content/drive/My Drive/Colab Notebooks/Covid19/Dataset/Covid/16660_5_1.jpg', '/content/drive/My Drive/Colab Notebooks/Covid19/Dataset/Covid/CD50BA96-6982-4C80-AE7B-5F67ACDBFA56.jpeg', '/content/drive/My Drive/Colab Notebooks/Covid19/Dataset/Covid/6C94A287-C059-46A0-8600-AFB95F4727B7.jpeg', '/content/drive/My Drive/Colab Notebooks/Covid19/Dataset/Covid/2-chest-filmc.jpg', '/content/drive/My Drive/Colab Notebooks/Covid19/Dataset/Covid/1.CXRCTThoraximagesofCOVID-19fromSingapore.pdf-000-fig1a.png', '/content/drive/My Drive/Colab Notebooks/Covid19/Dataset/Covid/353889E0-A1E8-4F9E-A0B8-F24F36BCFBFB.jpeg', '/content/drive/My Drive/Colab Notebooks/Covid19/Dataset/Covid/16663_1_1.jpg', '/content/drive/My Drive/Colab Notebooks/Covid19/Dataset/Covid/21DDEBFD-7F16-4E3E-8F90-CB1B8EE82828.jpeg', '/content/drive/My Drive/Colab Notebooks/Covid19/Dataset/Covid/1-s2.0-S0929664620300449-gr2_lrg-a.jpg', '/content/drive/My Drive/Colab Notebooks/Covid19/Dataset/Covid/1-s2.0-S1684118220300682-main.pdf-002-a2.png', '/content/drive/My Drive/Colab Notebooks/Covid19/Dataset/Covid/16672_1_1.jpg', '/content/drive/My Drive/Colab Notebooks/Covid19/Dataset/Covid/16664_2_1.jpg', '/content/drive/My Drive/Colab Notebooks/Covid19/Dataset/Covid/1-s2.0-S0929664620300449-gr3_lrg-a.jpg', '/content/drive/My Drive/Colab Notebooks/Covid19/Dataset/Covid/1.CXRCTThoraximagesofCOVID-19fromSingapore.pdf-002-fig3a.png', '/content/drive/My Drive/Colab Notebooks/Covid19/Dataset/Covid/446B2CB6-B572-40AB-B01F-1910CA07086A.jpeg', '/content/drive/My Drive/Colab Notebooks/Covid19/Dataset/Covid/4-x-day13.jpg', '/content/drive/My Drive/Colab Notebooks/Covid19/Dataset/Covid/2B8649B2-00C4-4233-85D5-1CE240CF233B.jpeg', '/content/drive/My Drive/Colab Notebooks/Covid19/Dataset/Covid/3ED3C0E1-4FE0-4238-8112-DDFF9E20B471.jpeg', '/content/drive/My Drive/Colab Notebooks/Covid19/Dataset/Covid/4-x-day8.jpg', '/content/drive/My Drive/Colab Notebooks/Covid19/Dataset/Covid/1-s2.0-S1684118220300682-main.pdf-002-a1.png', '/content/drive/My Drive/Colab Notebooks/Covid19/Dataset/Covid/254B82FC-817D-4E2F-AB6E-1351341F0E38.jpeg', '/content/drive/My Drive/Colab Notebooks/Covid19/Dataset/Covid/88de9d8c39e946abd495b37cd07d89e5-2ee6-0.jpg', '/content/drive/My Drive/Colab Notebooks/Covid19/Dataset/Covid/4-x-day1.jpg', '/content/drive/My Drive/Colab Notebooks/Covid19/Dataset/Covid/16660_2_1.jpg', '/content/drive/My Drive/Colab Notebooks/Covid19/Dataset/Covid/C6EA0BE5-B01E-4113-B194-18D956675E25.jpeg', '/content/drive/My Drive/Colab Notebooks/Covid19/Dataset/Covid/2966893D-5DDF-4B68-9E2B-4979D5956C8E.jpeg', '/content/drive/My Drive/Colab Notebooks/Covid19/Dataset/Covid/16660_1_1.jpg', '/content/drive/My Drive/Colab Notebooks/Covid19/Dataset/Covid/1-s2.0-S0929664620300449-gr2_lrg-c.jpg', '/content/drive/My Drive/Colab Notebooks/Covid19/Dataset/Covid/41591_2020_819_Fig1_HTML.webp-day5.png', '/content/drive/My Drive/Colab Notebooks/Covid19/Dataset/Covid/4e43e48d52c9e2d4c6c1fb9bc1544f_jumbo.jpeg', '/content/drive/My Drive/Colab Notebooks/Covid19/Dataset/Covid/7D2CF6CE-F529-4470-8356-D33FFAF98600.jpeg', '/content/drive/My Drive/Colab Notebooks/Covid19/Dataset/Covid/66298CBF-6F10-42D5-A688-741F6AC84A76.jpeg', '/content/drive/My Drive/Colab Notebooks/Covid19/Dataset/Covid/1-s2.0-S0929664620300449-gr2_lrg-b.jpg', '/content/drive/My Drive/Colab Notebooks/Covid19/Dataset/Covid/16674_1_1.jpg', '/content/drive/My Drive/Colab Notebooks/Covid19/Dataset/Covid/6CB4EFC6-68FA-4CD5-940C-BEFA8DAFE9A7.jpeg', '/content/drive/My Drive/Colab Notebooks/Covid19/Dataset/Covid/1-s2.0-S0929664620300449-gr3_lrg-d.jpg', '/content/drive/My Drive/Colab Notebooks/Covid19/Dataset/Covid/16669_3_1.jpeg', '/content/drive/My Drive/Colab Notebooks/Covid19/Dataset/Covid/1-s2.0-S1684118220300608-main.pdf-001.jpg', '/content/drive/My Drive/Colab Notebooks/Covid19/Dataset/Covid/16663_1_2.jpg', '/content/drive/My Drive/Colab Notebooks/Covid19/Dataset/Covid/AR-2.jpg', '/content/drive/My Drive/Colab Notebooks/Covid19/Dataset/Covid/1.CXRCTThoraximagesofCOVID-19fromSingapore.pdf-000-fig1b.png', '/content/drive/My Drive/Colab Notebooks/Covid19/Dataset/Covid/5CBC2E94-D358-401E-8928-965CCD965C5C.jpeg', '/content/drive/My Drive/Colab Notebooks/Covid19/Dataset/Covid/44C8E3D6-20DA-42E9-B33B-96FA6D6DE12F.jpeg', '/content/drive/My Drive/Colab Notebooks/Covid19/Dataset/Covid/1B734A89-A1BF-49A8-A1D3-66FAFA4FAC5D.jpeg', '/content/drive/My Drive/Colab Notebooks/Covid19/Dataset/Covid/925446AE-B3C7-4C93-941B-AC4D2FE1F455.jpeg', '/content/drive/My Drive/Colab Notebooks/Covid19/Dataset/Covid/16664_1_1.jpg', '/content/drive/My Drive/Colab Notebooks/Covid19/Dataset/Covid/6b44464d-73a7-4cf3-bbb6-ffe7168300e3.annot.original.jpeg', '/content/drive/My Drive/Colab Notebooks/Covid19/Dataset/Covid/5A78BCA9-5B7A-440D-8A4E-AE7710EA6EAD.jpeg', '/content/drive/My Drive/Colab Notebooks/Covid19/Dataset/Covid/ARDSSevere.png', '/content/drive/My Drive/Colab Notebooks/Covid19/Dataset/Covid/9C34AF49-E589-44D5-92D3-168B3B04E4A6.jpeg', '/content/drive/My Drive/Colab Notebooks/Covid19/Dataset/Covid/1-s2.0-S1684118220300682-main.pdf-003-b1.png', '/content/drive/My Drive/Colab Notebooks/Covid19/Dataset/Covid/39EE8E69-5801-48DE-B6E3-BE7D1BCF3092.jpeg', '/content/drive/My Drive/Colab Notebooks/Covid19/Dataset/Covid/2C26F453-AF3B-4517-BB9E-802CF2179543.jpeg', '/content/drive/My Drive/Colab Notebooks/Covid19/Dataset/Covid/16654_4_1.jpg', '/content/drive/My Drive/Colab Notebooks/Covid19/Dataset/Covid/8FDE8DBA-CFBD-4B4C-B1A4-6F36A93B7E87.jpeg', '/content/drive/My Drive/Colab Notebooks/Covid19/Dataset/Covid/16654_1_1.png', '/content/drive/My Drive/Colab Notebooks/Covid19/Dataset/Covid/4C4DEFD8-F55D-4588-AAD6-C59017F55966.jpeg', '/content/drive/My Drive/Colab Notebooks/Covid19/Dataset/Covid/16669_1_1.jpeg', '/content/drive/My Drive/Colab Notebooks/Covid19/Dataset/Covid/16691_1_1.jpg', '/content/drive/My Drive/Colab Notebooks/Covid19/Dataset/Covid/53EC07C9-5CC6-4BE4-9B6F-D7B0D72AAA7E.jpeg', '/content/drive/My Drive/Colab Notebooks/Covid19/Dataset/Covid/4ad30bc6-2da0-4f84-bc9b-62acabfd518a.annot.original.png', '/content/drive/My Drive/Colab Notebooks/Covid19/Dataset/Covid/7AF6C1AF-D249-4BD2-8C26-449304105D03.jpeg', '/content/drive/My Drive/Colab Notebooks/Covid19/Dataset/Covid/67d668e570c242404ba82c7cbe2ca8f2-05be-0.jpg', '/content/drive/My Drive/Colab Notebooks/Covid19/Dataset/Covid/23E99E2E-447C-46E5-8EB2-D35D12473C39.png', '/content/drive/My Drive/Colab Notebooks/Covid19/Dataset/Covid/7-fatal-covid19.jpg', '/content/drive/My Drive/Colab Notebooks/Covid19/Dataset/Covid/B2D20576-00B7-4519-A415-72DE29C90C34.jpeg', '/content/drive/My Drive/Colab Notebooks/Covid19/Dataset/Covid/AR-1.jpg', '/content/drive/My Drive/Colab Notebooks/Covid19/Dataset/Covid/1F6343EE-AFEC-4B7D-97F5-62797EE18767.jpeg', '/content/drive/My Drive/Colab Notebooks/Covid19/Dataset/Covid/93FE0BB1-022D-4F24-9727-987A07975FFB.jpeg', '/content/drive/My Drive/Colab Notebooks/Covid19/Dataset/Covid/16660_3_1.jpg', '/content/drive/My Drive/Colab Notebooks/Covid19/Dataset/Covid/A7E260CE-8A00-4C5F-A7F5-27336527A981.jpeg', '/content/drive/My Drive/Colab Notebooks/Covid19/Dataset/Covid/1-s2.0-S0140673620303706-fx1_lrg.jpg', '/content/drive/My Drive/Colab Notebooks/Covid19/Dataset/Covid/16654_2_1.jpg', '/content/drive/My Drive/Colab Notebooks/Covid19/Dataset/Covid/1.CXRCTThoraximagesofCOVID-19fromSingapore.pdf-002-fig3b.png', '/content/drive/My Drive/Colab Notebooks/Covid19/Dataset/Covid/1.CXRCTThoraximagesofCOVID-19fromSingapore.pdf-001-fig2a.png', '/content/drive/My Drive/Colab Notebooks/Covid19/Dataset/Covid/D7AF463C-2369-492D-908D-BE1911CCD74C.jpeg', '/content/drive/My Drive/Colab Notebooks/Covid19/Dataset/Covid/16660_4_1.jpg', '/content/drive/My Drive/Colab Notebooks/Covid19/Dataset/Covid/2C10A413-AABE-4807-8CCE-6A2025594067.jpeg', '/content/drive/My Drive/Colab Notebooks/Covid19/Dataset/Covid/1-s2.0-S0929664620300449-gr2_lrg-d.jpg', '/content/drive/My Drive/Colab Notebooks/Covid19/Dataset/Covid/31BA3780-2323-493F-8AED-62081B9C383B.jpeg', '/content/drive/My Drive/Colab Notebooks/Covid19/Dataset/Covid/5083A6B7-8983-472E-A427-570A3E03DDEE.jpeg', '/content/drive/My Drive/Colab Notebooks/Covid19/Dataset/Covid/6A7D4110-2BFC-4D9A-A2D6-E9226D91D25A.jpeg', '/content/drive/My Drive/Colab Notebooks/Covid19/Dataset/Covid/B59DD164-51D5-40DF-A926-6A42DD52EBE8.jpeg', '/content/drive/My Drive/Colab Notebooks/Covid19/Dataset/Covid/03BF7561-A9BA-4C3C-B8A0-D3E585F73F3C.jpeg', '/content/drive/My Drive/Colab Notebooks/Covid19/Dataset/Covid/9fdd3c3032296fd04d2cad5d9070d4_jumbo.jpeg', '/content/drive/My Drive/Colab Notebooks/Covid19/Dataset/Covid/41591_2020_819_Fig1_HTML.webp-day10.png', '/content/drive/My Drive/Colab Notebooks/Covid19/Dataset/Covid/7E335538-2F86-424E-A0AB-6397783A38D0.jpeg', '/content/drive/My Drive/Colab Notebooks/Covid19/Dataset/Covid/85E52EB3-56E9-4D67-82DA-DEA247C82886.jpeg', '/content/drive/My Drive/Colab Notebooks/Covid19/Dataset/Covid/67d668e570c242404ba82c7cbe2ca8f2-0015-0.jpg', '/content/drive/My Drive/Colab Notebooks/Covid19/Dataset/Covid/6b3bdbc31f65230b8cdcc3cef5f8ba8a-40ac-0.jpg', '/content/drive/My Drive/Colab Notebooks/Covid19/Dataset/Covid/396A81A5-982C-44E9-A57E-9B1DC34E2C08.jpeg', '/content/drive/My Drive/Colab Notebooks/Covid19/Dataset/Covid/1-s2.0-S1684118220300682-main.pdf-003-b2.png', '/content/drive/My Drive/Colab Notebooks/Covid19/Dataset/Covid/1-s2.0-S0929664620300449-gr3_lrg-b.jpg', '/content/drive/My Drive/Colab Notebooks/Covid19/Dataset/Covid/7C69C012-7479-493F-8722-ABC29C60A2DD.jpeg', '/content/drive/My Drive/Colab Notebooks/Covid19/Dataset/Covid/01E392EE-69F9-4E33-BFCE-E5C968654078.jpeg', '/content/drive/My Drive/Colab Notebooks/Covid19/Dataset/Covid/1.CXRCTThoraximagesofCOVID-19fromSingapore.pdf-003-fig4b.png', '/content/drive/My Drive/Colab Notebooks/Covid19/Dataset/Covid/5931B64A-7B97-485D-BE60-3F1EA76BC4F0.jpeg', '/content/drive/My Drive/Colab Notebooks/Covid19/Dataset/Covid/kjr-21-e24-g004-l-a.jpg', '/content/drive/My Drive/Colab Notebooks/Covid19/Dataset/Covid/covid-19-pneumonia-evolution-over-a-week-1-day4.jpg', '/content/drive/My Drive/Colab Notebooks/Covid19/Dataset/Covid/jkms-35-e79-g001-l-c.jpg', '/content/drive/My Drive/Colab Notebooks/Covid19/Dataset/Covid/covid-19-pneumonia-20-l-on-admission.jpg', '/content/drive/My Drive/Colab Notebooks/Covid19/Dataset/Covid/covid-19-pneumonia-rapidly-progressive-3-days.jpg', '/content/drive/My Drive/Colab Notebooks/Covid19/Dataset/Covid/nejmoa2001191_f3-L.jpeg', '/content/drive/My Drive/Colab Notebooks/Covid19/Dataset/Covid/extubation-4.jpg', '/content/drive/My Drive/Colab Notebooks/Covid19/Dataset/Covid/covid-19-rapidly-progressive-acute-respiratory-distress-syndrome-ards-admission.jpg', '/content/drive/My Drive/Colab Notebooks/Covid19/Dataset/Covid/covid-19-pneumonia-rapidly-progressive-admission.jpg', '/content/drive/My Drive/Colab Notebooks/Covid19/Dataset/Covid/covid-19-infection-exclusive-gastrointestinal-symptoms-pa.png', '/content/drive/My Drive/Colab Notebooks/Covid19/Dataset/Covid/covid-19-pneumonia-14-L.png', '/content/drive/My Drive/Colab Notebooks/Covid19/Dataset/Covid/auntminnie-d-2020_01_28_23_51_6665_2020_01_28_Vietnam_coronavirus.jpeg', '/content/drive/My Drive/Colab Notebooks/Covid19/Dataset/Covid/SARS-10.1148rg.242035193-g04mr34g07a-Fig7a-day5.jpeg', '/content/drive/My Drive/Colab Notebooks/Covid19/Dataset/Covid/covid-19-pneumonia-22-day1-pa.png', '/content/drive/My Drive/Colab Notebooks/Covid19/Dataset/Covid/covid-19-pneumonia-8.jpg', '/content/drive/My Drive/Colab Notebooks/Covid19/Dataset/Covid/cavitating-pneumonia-4-day28-PA.png', '/content/drive/My Drive/Colab Notebooks/Covid19/Dataset/Covid/pneumocystis-jirovecii-pneumonia-3-1.jpg', '/content/drive/My Drive/Colab Notebooks/Covid19/Dataset/Covid/covid-19-caso-70-1-L.jpg', '/content/drive/My Drive/Colab Notebooks/Covid19/Dataset/Covid/covid-19-pneumonia-58-day-10.jpg', '/content/drive/My Drive/Colab Notebooks/Covid19/Dataset/Covid/pneumocystis-jirovecii-pneumonia-2.jpg', '/content/drive/My Drive/Colab Notebooks/Covid19/Dataset/Covid/SARS-10.1148rg.242035193-g04mr34g0-Fig8c-day10.jpeg', '/content/drive/My Drive/Colab Notebooks/Covid19/Dataset/Covid/pneumocystis-jiroveci-pneumonia-2.png', '/content/drive/My Drive/Colab Notebooks/Covid19/Dataset/Covid/gr1_lrg-b.jpg', '/content/drive/My Drive/Colab Notebooks/Covid19/Dataset/Covid/covid-19-pneumonia-42.jpeg', '/content/drive/My Drive/Colab Notebooks/Covid19/Dataset/Covid/covid-19-pneumonia-34.png', '/content/drive/My Drive/Colab Notebooks/Covid19/Dataset/Covid/covid-19-pneumonia-44-day-8.jpeg', '/content/drive/My Drive/Colab Notebooks/Covid19/Dataset/Covid/covid-19-rapidly-progressive-acute-respiratory-distress-syndrome-ards-day-1.jpg', '/content/drive/My Drive/Colab Notebooks/Covid19/Dataset/Covid/pneumocystis-jiroveci-pneumonia-4-L.png', '/content/drive/My Drive/Colab Notebooks/Covid19/Dataset/Covid/legionella-pneumonia-2.jpg', '/content/drive/My Drive/Colab Notebooks/Covid19/Dataset/Covid/nCoV-Snohomish-20382862_web1_M1-Lungs-EDH-200201-640x300@2x.jpg', '/content/drive/My Drive/Colab Notebooks/Covid19/Dataset/Covid/covid-19-pneumonia-30-PA.jpg', '/content/drive/My Drive/Colab Notebooks/Covid19/Dataset/Covid/F63AB6CE-1968-4154-A70F-913AF154F53D.jpeg', '/content/drive/My Drive/Colab Notebooks/Covid19/Dataset/Covid/kjr-21-e24-g003-l-b.jpg', '/content/drive/My Drive/Colab Notebooks/Covid19/Dataset/Covid/RX-torace-a-letto-del-paziente-in-unica-proiezione-AP-1-1.jpeg', '/content/drive/My Drive/Colab Notebooks/Covid19/Dataset/Covid/SARS-10.1148rg.242035193-g04mr34g04a-Fig4a-day7.jpeg', '/content/drive/My Drive/Colab Notebooks/Covid19/Dataset/Covid/covid-19-pneumonia-43-day0.jpeg', '/content/drive/My Drive/Colab Notebooks/Covid19/Dataset/Covid/acute-respiratory-distress-syndrome-ards.jpg', '/content/drive/My Drive/Colab Notebooks/Covid19/Dataset/Covid/ajr.20.23034.pdf-003.png', '/content/drive/My Drive/Colab Notebooks/Covid19/Dataset/Covid/nejmc2001573_f1b.jpeg', '/content/drive/My Drive/Colab Notebooks/Covid19/Dataset/Covid/pneumocystis-jiroveci-pneumonia-4-PA.png', '/content/drive/My Drive/Colab Notebooks/Covid19/Dataset/Covid/da9e9aac-de8c-44c7-ba57-e7cc8e4caaba.annot.original.jpeg', '/content/drive/My Drive/Colab Notebooks/Covid19/Dataset/Covid/pneumocystis-jirovecii-pneumonia-3-3.jpg', '/content/drive/My Drive/Colab Notebooks/Covid19/Dataset/Covid/nejmc2001573_f1a.jpeg', '/content/drive/My Drive/Colab Notebooks/Covid19/Dataset/Covid/aspiration-pneumonia-5-day0.jpg', '/content/drive/My Drive/Colab Notebooks/Covid19/Dataset/Covid/covid-19-pneumonia-38-l.jpg', '/content/drive/My Drive/Colab Notebooks/Covid19/Dataset/Covid/X-ray_of_cyst_in_pneumocystis_pneumonia_1.jpg', '/content/drive/My Drive/Colab Notebooks/Covid19/Dataset/Covid/covid-19-pneumonia-43-day2.jpeg', '/content/drive/My Drive/Colab Notebooks/Covid19/Dataset/Covid/SARS-10.1148rg.242035193-g04mr34g0-Fig8b-day5.jpeg', '/content/drive/My Drive/Colab Notebooks/Covid19/Dataset/Covid/covid-19-pneumonia-23-day1.jpg', '/content/drive/My Drive/Colab Notebooks/Covid19/Dataset/Covid/pneumococcal-pneumonia-day7.jpg', '/content/drive/My Drive/Colab Notebooks/Covid19/Dataset/Covid/covid-19-pneumonia-41-day-2.jpg', '/content/drive/My Drive/Colab Notebooks/Covid19/Dataset/Covid/covid-19-pneumonia-7-L.jpg', '/content/drive/My Drive/Colab Notebooks/Covid19/Dataset/Covid/covid-19-pneumonia-2.jpg', '/content/drive/My Drive/Colab Notebooks/Covid19/Dataset/Covid/covid-19-pneumonia-67.jpeg', '/content/drive/My Drive/Colab Notebooks/Covid19/Dataset/Covid/pneumococcal-pneumonia-day0.jpg', '/content/drive/My Drive/Colab Notebooks/Covid19/Dataset/Covid/covid-19-pneumonia-23-day9.jpg', '/content/drive/My Drive/Colab Notebooks/Covid19/Dataset/Covid/covid-19-pneumonia-49-day4.jpg', '/content/drive/My Drive/Colab Notebooks/Covid19/Dataset/Covid/pneumocystis-pneumonia-12.png', '/content/drive/My Drive/Colab Notebooks/Covid19/Dataset/Covid/covid-19-pneumonia-24-day12.jpg', '/content/drive/My Drive/Colab Notebooks/Covid19/Dataset/Covid/covid-19-pneumonia-20-pa-on-admission.jpg', '/content/drive/My Drive/Colab Notebooks/Covid19/Dataset/Covid/SARS-10.1148rg.242035193-g04mr34g05x-Fig5-day9.jpeg', '/content/drive/My Drive/Colab Notebooks/Covid19/Dataset/Covid/covid-19-pneumonia-28.png', '/content/drive/My Drive/Colab Notebooks/Covid19/Dataset/Covid/covid-19-pneumonia-bilateral.jpg', '/content/drive/My Drive/Colab Notebooks/Covid19/Dataset/Covid/kjr-21-e24-g003-l-a.jpg', '/content/drive/My Drive/Colab Notebooks/Covid19/Dataset/Covid/fff49165-b22d-4bb4-b9d1-d5d62c52436c.annot.original.png', '/content/drive/My Drive/Colab Notebooks/Covid19/Dataset/Covid/pneumocystis-carinii-pneumonia-1-L.jpg', '/content/drive/My Drive/Colab Notebooks/Covid19/Dataset/Covid/covid-19-pneumonia-19.jpg', '/content/drive/My Drive/Colab Notebooks/Covid19/Dataset/Covid/extubation-8.jpg', '/content/drive/My Drive/Colab Notebooks/Covid19/Dataset/Covid/cavitating-pneumonia-4-day0-L.jpg', '/content/drive/My Drive/Colab Notebooks/Covid19/Dataset/Covid/FC230FE2-1DDF-40EB-AA0D-21F950933289.jpeg', '/content/drive/My Drive/Colab Notebooks/Covid19/Dataset/Covid/SARS-10.1148rg.242035193-g04mr34g09a-Fig9a-day17.jpeg', '/content/drive/My Drive/Colab Notebooks/Covid19/Dataset/Covid/all14238-fig-0001-m-b.jpg', '/content/drive/My Drive/Colab Notebooks/Covid19/Dataset/Covid/chlamydia-pneumonia-L.png', '/content/drive/My Drive/Colab Notebooks/Covid19/Dataset/Covid/covid-19-pneumonia-44-day-0.jpeg', '/content/drive/My Drive/Colab Notebooks/Covid19/Dataset/Covid/aspiration-pneumonia-5-day27.jpg', '/content/drive/My Drive/Colab Notebooks/Covid19/Dataset/Covid/kjr-21-e24-g004-l-b.jpg', '/content/drive/My Drive/Colab Notebooks/Covid19/Dataset/Covid/jkms-35-e79-g001-l-b.jpg', '/content/drive/My Drive/Colab Notebooks/Covid19/Dataset/Covid/covid-19-pneumonia-15-L.jpg', '/content/drive/My Drive/Colab Notebooks/Covid19/Dataset/Covid/covid-19-pneumonia-12.jpg', '/content/drive/My Drive/Colab Notebooks/Covid19/Dataset/Covid/covid-19-pneumonia-23-day3.jpg', '/content/drive/My Drive/Colab Notebooks/Covid19/Dataset/Covid/paving.jpg', '/content/drive/My Drive/Colab Notebooks/Covid19/Dataset/Covid/covid-19-rapidly-progressive-acute-respiratory-distress-syndrome-ards-day-2.jpg', '/content/drive/My Drive/Colab Notebooks/Covid19/Dataset/Covid/SARS-10.1148rg.242035193-g04mr34g09c-Fig9c-day27.jpeg', '/content/drive/My Drive/Colab Notebooks/Covid19/Dataset/Covid/covid-19-infection-exclusive-gastrointestinal-symptoms-l.png', '/content/drive/My Drive/Colab Notebooks/Covid19/Dataset/Covid/covid-19-pneumonia-rapidly-progressive-12-hours.jpg', '/content/drive/My Drive/Colab Notebooks/Covid19/Dataset/Covid/figure1-5e73d7ae897e27ff066a30cb-98.jpeg', '/content/drive/My Drive/Colab Notebooks/Covid19/Dataset/Covid/nejmoa2001191_f1-L.jpeg', '/content/drive/My Drive/Colab Notebooks/Covid19/Dataset/Covid/ae6c954c0039de4b5edee53865ffee43-e6c8-0.jpg', '/content/drive/My Drive/Colab Notebooks/Covid19/Dataset/Covid/pneumococcal-pneumonia-day35.jpg', '/content/drive/My Drive/Colab Notebooks/Covid19/Dataset/Covid/covid-19-pneumonia-49-day8.jpg', '/content/drive/My Drive/Colab Notebooks/Covid19/Dataset/Covid/DE488FE1-0C44-428B-B67A-09741C1214C0.jpeg', '/content/drive/My Drive/Colab Notebooks/Covid19/Dataset/Covid/jkms-35-e79-g001-l-d.jpg', '/content/drive/My Drive/Colab Notebooks/Covid19/Dataset/Covid/covid-19-caso-70-2-APS.jpg', '/content/drive/My Drive/Colab Notebooks/Covid19/Dataset/Covid/lancet-case2a.jpg', '/content/drive/My Drive/Colab Notebooks/Covid19/Dataset/Covid/kjr-21-e24-g001-l-c.jpg', '/content/drive/My Drive/Colab Notebooks/Covid19/Dataset/Covid/covid-19-pneumonia-41-day-0.jpg', '/content/drive/My Drive/Colab Notebooks/Covid19/Dataset/Covid/cavitating-pneumonia-4-day0-PA.jpg', '/content/drive/My Drive/Colab Notebooks/Covid19/Dataset/Covid/F2DE909F-E19C-4900-92F5-8F435B031AC6.jpeg', '/content/drive/My Drive/Colab Notebooks/Covid19/Dataset/Covid/ajr.20.23034.pdf-001.png', '/content/drive/My Drive/Colab Notebooks/Covid19/Dataset/Covid/cavitating-pneumonia-4-day28-L.png', '/content/drive/My Drive/Colab Notebooks/Covid19/Dataset/Covid/auntminnie-b-2020_01_28_23_51_6665_2020_01_28_Vietnam_coronavirus.jpeg', '/content/drive/My Drive/Colab Notebooks/Covid19/Dataset/Covid/SARS-10.1148rg.242035193-g04mr34g07b-Fig7b-day12.jpeg', '/content/drive/My Drive/Colab Notebooks/Covid19/Dataset/Covid/covid-19-pneumonia-24-day6.jpg', '/content/drive/My Drive/Colab Notebooks/Covid19/Dataset/Covid/ciaa199.pdf-001-b.png', '/content/drive/My Drive/Colab Notebooks/Covid19/Dataset/Covid/covid-19-pneumonia-58-prior.jpg', '/content/drive/My Drive/Colab Notebooks/Covid19/Dataset/Covid/covid-19-rapidly-progressive-acute-respiratory-distress-syndrome-ards-day-3.jpg', '/content/drive/My Drive/Colab Notebooks/Covid19/Dataset/Covid/pneumocystis-pneumonia-1.jpg', '/content/drive/My Drive/Colab Notebooks/Covid19/Dataset/Covid/covid-19-pneumonia-58-day-9.jpg', '/content/drive/My Drive/Colab Notebooks/Covid19/Dataset/Covid/E1724330-1866-4581-8CD8-CEC9B8AFEDDE.jpeg', '/content/drive/My Drive/Colab Notebooks/Covid19/Dataset/Covid/kjr-21-e24-g001-l-a.jpg', '/content/drive/My Drive/Colab Notebooks/Covid19/Dataset/Covid/nejmoa2001191_f1-PA.jpeg', '/content/drive/My Drive/Colab Notebooks/Covid19/Dataset/Covid/covid-19-pneumonia-22-day1-l.png', '/content/drive/My Drive/Colab Notebooks/Covid19/Dataset/Covid/covid-19-pneumonia-15-PA.jpg', '/content/drive/My Drive/Colab Notebooks/Covid19/Dataset/Covid/kjr-21-e25-g001-l-a.jpg', '/content/drive/My Drive/Colab Notebooks/Covid19/Dataset/Covid/kjr-21-e24-g002-l-a.jpg', '/content/drive/My Drive/Colab Notebooks/Covid19/Dataset/Covid/auntminnie-2020_01_31_20_24_2322_2020_01_31_x-ray_coronavirus_US.jpg', '/content/drive/My Drive/Colab Notebooks/Covid19/Dataset/Covid/F4341CE7-73C9-45C6-99C8-8567A5484B63.jpeg', '/content/drive/My Drive/Colab Notebooks/Covid19/Dataset/Covid/extubation-13.jpg', '/content/drive/My Drive/Colab Notebooks/Covid19/Dataset/Covid/pneumocystis-pneumonia-2-L.png', '/content/drive/My Drive/Colab Notebooks/Covid19/Dataset/Covid/acute-respiratory-distress-syndrome-ards-1.jpg', '/content/drive/My Drive/Colab Notebooks/Covid19/Dataset/Covid/covid-19-pneumonia-53.jpg', '/content/drive/My Drive/Colab Notebooks/Covid19/Dataset/Covid/covid-19-pneumonia-40.jpg', '/content/drive/My Drive/Colab Notebooks/Covid19/Dataset/Covid/nCoV-radiol.2020200269.fig1-day7.jpeg', '/content/drive/My Drive/Colab Notebooks/Covid19/Dataset/Covid/figure1-5e7c1b8d98c29ab001275405-98-later.jpeg', '/content/drive/My Drive/Colab Notebooks/Covid19/Dataset/Covid/pneumocystis-jirovecii-pneumonia-3-2.jpg', '/content/drive/My Drive/Colab Notebooks/Covid19/Dataset/Covid/figure1-5e75d0940b71e1b702629659-98-right.jpeg', '/content/drive/My Drive/Colab Notebooks/Covid19/Dataset/Covid/nejmoa2001191_f5-PA.jpeg', '/content/drive/My Drive/Colab Notebooks/Covid19/Dataset/Covid/covid-19-pneumonia-24-day7.jpg', '/content/drive/My Drive/Colab Notebooks/Covid19/Dataset/Covid/auntminnie-a-2020_01_28_23_51_6665_2020_01_28_Vietnam_coronavirus.jpeg', '/content/drive/My Drive/Colab Notebooks/Covid19/Dataset/Covid/auntminnie-c-2020_01_28_23_51_6665_2020_01_28_Vietnam_coronavirus.jpeg', '/content/drive/My Drive/Colab Notebooks/Covid19/Dataset/Covid/parapneumonic-effusion-1-L.png', '/content/drive/My Drive/Colab Notebooks/Covid19/Dataset/Covid/ciaa199.pdf-001-a.png', '/content/drive/My Drive/Colab Notebooks/Covid19/Dataset/Covid/all14238-fig-0002-m-e.jpg', '/content/drive/My Drive/Colab Notebooks/Covid19/Dataset/Covid/SARS-10.1148rg.242035193-g04mr34g0-Fig8a-day0.jpeg', '/content/drive/My Drive/Colab Notebooks/Covid19/Dataset/Covid/FE9F9A5D-2830-46F9-851B-1FF4534959BE.jpeg', '/content/drive/My Drive/Colab Notebooks/Covid19/Dataset/Covid/jkms-35-e79-g001-l-e.jpg', '/content/drive/My Drive/Colab Notebooks/Covid19/Dataset/Covid/figure1-5e71be566aa8714a04de3386-98-left.jpeg', '/content/drive/My Drive/Colab Notebooks/Covid19/Dataset/Covid/covid-19-pneumonia-35-1.jpg', '/content/drive/My Drive/Colab Notebooks/Covid19/Dataset/Covid/MERS-CoV-1-s2.0-S0378603X1500248X-gr4e.jpg', '/content/drive/My Drive/Colab Notebooks/Covid19/Dataset/Covid/covid-19-pneumonia-58-day-7.jpg', '/content/drive/My Drive/Colab Notebooks/Covid19/Dataset/Covid/parapneumonic-effusion-1-PA.png', '/content/drive/My Drive/Colab Notebooks/Covid19/Dataset/Covid/all14238-fig-0002-m-f.jpg', '/content/drive/My Drive/Colab Notebooks/Covid19/Dataset/Covid/ards-secondary-to-tiger-snake-bite.png', '/content/drive/My Drive/Colab Notebooks/Covid19/Dataset/Covid/aspiration-pneumonia-5-day3.jpg', '/content/drive/My Drive/Colab Notebooks/Covid19/Dataset/Covid/covid-19-pneumonia-58-day-3.jpg', '/content/drive/My Drive/Colab Notebooks/Covid19/Dataset/Covid/all14238-fig-0002-m-d.jpg', '/content/drive/My Drive/Colab Notebooks/Covid19/Dataset/Covid/covid-19-pneumonia-mild.JPG', '/content/drive/My Drive/Colab Notebooks/Covid19/Dataset/Covid/all14238-fig-0001-m-c.jpg', '/content/drive/My Drive/Colab Notebooks/Covid19/Dataset/Covid/gr1_lrg-a.jpg', '/content/drive/My Drive/Colab Notebooks/Covid19/Dataset/Covid/E63574A7-4188-4C8D-8D17-9D67A18A1AFA.jpeg', '/content/drive/My Drive/Colab Notebooks/Covid19/Dataset/Covid/SARS-10.1148rg.242035193-g04mr34g09b-Fig9b-day19.jpeg', '/content/drive/My Drive/Colab Notebooks/Covid19/Dataset/Covid/F051E018-DAD1-4506-AD43-BE4CA29E960B.jpeg', '/content/drive/My Drive/Colab Notebooks/Covid19/Dataset/Covid/covid-19-pneumonia-22-day2-pa.png', '/content/drive/My Drive/Colab Notebooks/Covid19/Dataset/Covid/ciaa199.pdf-001-c.png', '/content/drive/My Drive/Colab Notebooks/Covid19/Dataset/Covid/kjr-21-e24-g002-l-c.jpg', '/content/drive/My Drive/Colab Notebooks/Covid19/Dataset/Covid/nejmoa2001191_f3-PA.jpeg', '/content/drive/My Drive/Colab Notebooks/Covid19/Dataset/Covid/covid-19-pneumonia-evolution-over-a-week-1-day3.jpg', '/content/drive/My Drive/Colab Notebooks/Covid19/Dataset/Covid/nejmoa2001191_f4.jpeg', '/content/drive/My Drive/Colab Notebooks/Covid19/Dataset/Covid/nejmoa2001191_f5-L.jpeg', '/content/drive/My Drive/Colab Notebooks/Covid19/Dataset/Covid/covid-19-pneumonia-evolution-over-a-week-1-day0-L.jpg', '/content/drive/My Drive/Colab Notebooks/Covid19/Dataset/Covid/jkms-35-e79-g001-l-a.jpg', '/content/drive/My Drive/Colab Notebooks/Covid19/Dataset/Covid/extubation-1.jpg', '/content/drive/My Drive/Colab Notebooks/Covid19/Dataset/Covid/covid-19-pneumonia-evolution-over-a-week-1-day0-PA.jpg', '/content/drive/My Drive/Colab Notebooks/Covid19/Dataset/Covid/klebsiella-pneumonia-1.jpg', '/content/drive/My Drive/Colab Notebooks/Covid19/Dataset/Covid/legionella-pneumonia-1.png', '/content/drive/My Drive/Colab Notebooks/Covid19/Dataset/Covid/kjr-21-e24-g001-l-b.jpg', '/content/drive/My Drive/Colab Notebooks/Covid19/Dataset/Covid/kjr-21-e24-g002-l-b.jpg', '/content/drive/My Drive/Colab Notebooks/Covid19/Dataset/Covid/covid-19-pneumonia-7-PA.jpg', '/content/drive/My Drive/Colab Notebooks/Covid19/Dataset/Covid/covid-19-pneumonia-30-L.jpg', '/content/drive/My Drive/Colab Notebooks/Covid19/Dataset/Covid/figure1-5e7c1b8d98c29ab001275405-98.jpeg', '/content/drive/My Drive/Colab Notebooks/Covid19/Dataset/Covid/covid-19-pneumonia-35-2.jpg', '/content/drive/My Drive/Colab Notebooks/Covid19/Dataset/Covid/covid-19-caso-70-1-PA.jpg', '/content/drive/My Drive/Colab Notebooks/Covid19/Dataset/Covid/chlamydia-pneumonia-PA.png', '/content/drive/My Drive/Colab Notebooks/Covid19/Dataset/Covid/a1a7d22e66f6570df523e0077c6a5a_jumbo.jpeg', '/content/drive/My Drive/Colab Notebooks/Covid19/Dataset/Covid/covid-19-pneumonia-evolution-over-a-week-1-day6.jpg', '/content/drive/My Drive/Colab Notebooks/Covid19/Dataset/Covid/SARS-10.1148rg.242035193-g04mr34g04b-Fig4b-day12.jpeg', '/content/drive/My Drive/Colab Notebooks/Covid19/Dataset/Covid/pneumocystis-carinii-pneumonia-1-PA.jpg', '/content/drive/My Drive/Colab Notebooks/Covid19/Dataset/Covid/covid-19-pneumonia-38-pa.jpg', '/content/drive/My Drive/Colab Notebooks/Covid19/Dataset/Covid/aspiration-pneumonia-5-day10.jpg', '/content/drive/My Drive/Colab Notebooks/Covid19/Dataset/Covid/lancet-case2b.jpg', '/content/drive/My Drive/Colab Notebooks/Covid19/Dataset/Covid/covid-19-pneumonia-20.jpg', '/content/drive/My Drive/Colab Notebooks/Covid19/Dataset/Covid/covid-19-pneumonia-14-PA.png', '/content/drive/My Drive/Colab Notebooks/Covid19/Dataset/Covid/ryct.2020003.fig2-b.png', '/content/drive/My Drive/Colab Notebooks/Covid19/Dataset/Covid/streptococcus-pneumoniae-pneumonia-temporal-evolution-1-day0.jpg', '/content/drive/My Drive/Colab Notebooks/Covid19/Dataset/Covid/ryct.2020003.fig2-c.png', '/content/drive/My Drive/Colab Notebooks/Covid19/Dataset/Covid/radiol.2020201160.fig2a.jpeg', '/content/drive/My Drive/Colab Notebooks/Covid19/Dataset/Covid/ryct.2020200034.fig2.jpeg', '/content/drive/My Drive/Colab Notebooks/Covid19/Dataset/Covid/post-intubuation-pneumomediastium-and-pneumothorax-background-covid-19-pneumonia-day6-2.jpg', '/content/drive/My Drive/Colab Notebooks/Covid19/Dataset/Covid/streptococcus-pneumoniae-pneumonia-temporal-evolution-1-day2.jpg', '/content/drive/My Drive/Colab Notebooks/Covid19/Dataset/Covid/pneumocystis-pneumonia-2-PA.png', '/content/drive/My Drive/Colab Notebooks/Covid19/Dataset/Covid/radiol.2020200274.fig3d.png', '/content/drive/My Drive/Colab Notebooks/Covid19/Dataset/Covid/radiol.2020200490.fig3.jpeg', '/content/drive/My Drive/Colab Notebooks/Covid19/Dataset/Covid/wong-0005.jpg', '/content/drive/My Drive/Colab Notebooks/Covid19/Dataset/Covid/post-intubuation-pneumomediastium-and-pneumothorax-background-covid-19-pneumonia-day1.jpg', '/content/drive/My Drive/Colab Notebooks/Covid19/Dataset/Covid/wong-0002.jpg', '/content/drive/My Drive/Colab Notebooks/Covid19/Dataset/Covid/radiol.2020201160.fig2c.jpeg', '/content/drive/My Drive/Colab Notebooks/Covid19/Dataset/Covid/ryct.2020200034.fig5-day7.jpeg', '/content/drive/My Drive/Colab Notebooks/Covid19/Dataset/Covid/post-intubuation-pneumomediastium-and-pneumothorax-background-covid-19-pneumonia-day7.jpg', '/content/drive/My Drive/Colab Notebooks/Covid19/Dataset/Covid/wong-0000.jpg', '/content/drive/My Drive/Colab Notebooks/Covid19/Dataset/Covid/wong-0003.jpg', '/content/drive/My Drive/Colab Notebooks/Covid19/Dataset/Covid/yxppt-2020-02-19_00-51-27_287214-day10.jpg', '/content/drive/My Drive/Colab Notebooks/Covid19/Dataset/Covid/radiopaedia-2019-novel-coronavirus-infected-pneumonia.jpg', '/content/drive/My Drive/Colab Notebooks/Covid19/Dataset/Covid/ryct.2020003.fig2-a.png', '/content/drive/My Drive/Colab Notebooks/Covid19/Dataset/Covid/yxppt-2020-02-19_00-51-27_287214-day12.jpg', '/content/drive/My Drive/Colab Notebooks/Covid19/Dataset/Covid/yxppt-2020-02-19_00-51-27_287214-day8.jpg', '/content/drive/My Drive/Colab Notebooks/Covid19/Dataset/Covid/radiol.2020201160.fig3c.jpeg', '/content/drive/My Drive/Colab Notebooks/Covid19/Dataset/Covid/right-upper-lobe-pneumonia-9-L.jpg', '/content/drive/My Drive/Colab Notebooks/Covid19/Dataset/Covid/wong-0004.jpg', '/content/drive/My Drive/Colab Notebooks/Covid19/Dataset/Covid/ryct.2020200034.fig5-day4.jpeg', '/content/drive/My Drive/Colab Notebooks/Covid19/Dataset/Covid/pneumocystis-pneumonia-8.jpg', '/content/drive/My Drive/Colab Notebooks/Covid19/Dataset/Covid/pneumonia-7.jpg', '/content/drive/My Drive/Colab Notebooks/Covid19/Dataset/Covid/radiol.2020201160.fig2b.jpeg', '/content/drive/My Drive/Colab Notebooks/Covid19/Dataset/Covid/radiol.2020201160.fig6b.jpeg', '/content/drive/My Drive/Colab Notebooks/Covid19/Dataset/Covid/streptococcus-pneumoniae-pneumonia-temporal-evolution-1-day3.jpg', '/content/drive/My Drive/Colab Notebooks/Covid19/Dataset/Covid/ryct.2020200028.fig1a.jpeg', '/content/drive/My Drive/Colab Notebooks/Covid19/Dataset/Covid/radiol.2020201160.fig3d.jpeg', '/content/drive/My Drive/Colab Notebooks/Covid19/Dataset/Covid/streptococcus-pneumoniae-pneumonia-temporal-evolution-1-day1.jpg', '/content/drive/My Drive/Colab Notebooks/Covid19/Dataset/Covid/post-intubuation-pneumomediastium-and-pneumothorax-background-covid-19-pneumonia-day6-1.jpg', '/content/drive/My Drive/Colab Notebooks/Covid19/Dataset/Covid/right-upper-lobe-pneumonia-9-PA.jpg', '/content/drive/My Drive/Colab Notebooks/Covid19/Dataset/Covid/radiol.2020201160.fig3b.jpeg', '/content/drive/My Drive/Colab Notebooks/Covid19/Dataset/Covid/radiol.2020201160.fig3a.jpeg', '/content/drive/My Drive/Colab Notebooks/Covid19/Dataset/Covid/streptococcus-pneumoniae-pneumonia-1.jpg', '/content/drive/My Drive/Colab Notebooks/Covid19/Dataset/Covid/radiol.2020201160.fig2d.jpeg', '/content/drive/My Drive/Colab Notebooks/Covid19/Dataset/Covid/ryct.2020200034.fig5-day0.jpeg', '/content/drive/My Drive/Colab Notebooks/Covid19/Dataset/Normal/IM-0010-0001.jpeg', '/content/drive/My Drive/Colab Notebooks/Covid19/Dataset/Normal/IM-0003-0001.jpeg', '/content/drive/My Drive/Colab Notebooks/Covid19/Dataset/Normal/IM-0007-0001.jpeg', '/content/drive/My Drive/Colab Notebooks/Covid19/Dataset/Normal/IM-0005-0001.jpeg', '/content/drive/My Drive/Colab Notebooks/Covid19/Dataset/Normal/IM-0011-0001-0001.jpeg', '/content/drive/My Drive/Colab Notebooks/Covid19/Dataset/Normal/IM-0016-0001.jpeg', '/content/drive/My Drive/Colab Notebooks/Covid19/Dataset/Normal/IM-0011-0001-0002.jpeg', '/content/drive/My Drive/Colab Notebooks/Covid19/Dataset/Normal/IM-0021-0001.jpeg', '/content/drive/My Drive/Colab Notebooks/Covid19/Dataset/Normal/IM-0011-0001.jpeg', '/content/drive/My Drive/Colab Notebooks/Covid19/Dataset/Normal/IM-0017-0001.jpeg', '/content/drive/My Drive/Colab Notebooks/Covid19/Dataset/Normal/IM-0006-0001.jpeg', '/content/drive/My Drive/Colab Notebooks/Covid19/Dataset/Normal/IM-0015-0001.jpeg', '/content/drive/My Drive/Colab Notebooks/Covid19/Dataset/Normal/IM-0019-0001.jpeg', '/content/drive/My Drive/Colab Notebooks/Covid19/Dataset/Normal/IM-0009-0001.jpeg', '/content/drive/My Drive/Colab Notebooks/Covid19/Dataset/Normal/IM-0001-0001.jpeg', '/content/drive/My Drive/Colab Notebooks/Covid19/Dataset/Normal/IM-0013-0001.jpeg', '/content/drive/My Drive/Colab Notebooks/Covid19/Dataset/Normal/IM-0101-0001.jpeg', '/content/drive/My Drive/Colab Notebooks/Covid19/Dataset/Normal/IM-0073-0001.jpeg', '/content/drive/My Drive/Colab Notebooks/Covid19/Dataset/Normal/IM-0086-0001.jpeg', '/content/drive/My Drive/Colab Notebooks/Covid19/Dataset/Normal/IM-0084-0001.jpeg', '/content/drive/My Drive/Colab Notebooks/Covid19/Dataset/Normal/IM-0065-0001.jpeg', '/content/drive/My Drive/Colab Notebooks/Covid19/Dataset/Normal/IM-0089-0001.jpeg', '/content/drive/My Drive/Colab Notebooks/Covid19/Dataset/Normal/IM-0085-0001.jpeg', '/content/drive/My Drive/Colab Notebooks/Covid19/Dataset/Normal/IM-0067-0001.jpeg', '/content/drive/My Drive/Colab Notebooks/Covid19/Dataset/Normal/IM-0091-0001.jpeg', '/content/drive/My Drive/Colab Notebooks/Covid19/Dataset/Normal/IM-0031-0001.jpeg', '/content/drive/My Drive/Colab Notebooks/Covid19/Dataset/Normal/IM-0061-0001.jpeg', '/content/drive/My Drive/Colab Notebooks/Covid19/Dataset/Normal/IM-0027-0001.jpeg', '/content/drive/My Drive/Colab Notebooks/Covid19/Dataset/Normal/IM-0093-0001.jpeg', '/content/drive/My Drive/Colab Notebooks/Covid19/Dataset/Normal/IM-0046-0001.jpeg', '/content/drive/My Drive/Colab Notebooks/Covid19/Dataset/Normal/IM-0071-0001.jpeg', '/content/drive/My Drive/Colab Notebooks/Covid19/Dataset/Normal/IM-0111-0001.jpeg', '/content/drive/My Drive/Colab Notebooks/Covid19/Dataset/Normal/IM-0028-0001.jpeg', '/content/drive/My Drive/Colab Notebooks/Covid19/Dataset/Normal/IM-0075-0001.jpeg', '/content/drive/My Drive/Colab Notebooks/Covid19/Dataset/Normal/IM-0039-0001.jpeg', '/content/drive/My Drive/Colab Notebooks/Covid19/Dataset/Normal/IM-0103-0001.jpeg', '/content/drive/My Drive/Colab Notebooks/Covid19/Dataset/Normal/IM-0045-0001.jpeg', '/content/drive/My Drive/Colab Notebooks/Covid19/Dataset/Normal/IM-0077-0001.jpeg', '/content/drive/My Drive/Colab Notebooks/Covid19/Dataset/Normal/IM-0095-0001.jpeg', '/content/drive/My Drive/Colab Notebooks/Covid19/Dataset/Normal/IM-0079-0001.jpeg', '/content/drive/My Drive/Colab Notebooks/Covid19/Dataset/Normal/IM-0050-0001.jpeg', '/content/drive/My Drive/Colab Notebooks/Covid19/Dataset/Normal/IM-0083-0001.jpeg', '/content/drive/My Drive/Colab Notebooks/Covid19/Dataset/Normal/IM-0043-0001.jpeg', '/content/drive/My Drive/Colab Notebooks/Covid19/Dataset/Normal/IM-0081-0001.jpeg', '/content/drive/My Drive/Colab Notebooks/Covid19/Dataset/Normal/IM-0059-0001.jpeg', '/content/drive/My Drive/Colab Notebooks/Covid19/Dataset/Normal/IM-0033-0001-0002.jpeg', '/content/drive/My Drive/Colab Notebooks/Covid19/Dataset/Normal/IM-0070-0001.jpeg', '/content/drive/My Drive/Colab Notebooks/Covid19/Dataset/Normal/IM-0041-0001.jpeg', '/content/drive/My Drive/Colab Notebooks/Covid19/Dataset/Normal/IM-0049-0001.jpeg', '/content/drive/My Drive/Colab Notebooks/Covid19/Dataset/Normal/IM-0102-0001.jpeg', '/content/drive/My Drive/Colab Notebooks/Covid19/Dataset/Normal/IM-0063-0001.jpeg', '/content/drive/My Drive/Colab Notebooks/Covid19/Dataset/Normal/IM-0036-0001.jpeg', '/content/drive/My Drive/Colab Notebooks/Covid19/Dataset/Normal/IM-0037-0001.jpeg', '/content/drive/My Drive/Colab Notebooks/Covid19/Dataset/Normal/IM-0023-0001.jpeg', '/content/drive/My Drive/Colab Notebooks/Covid19/Dataset/Normal/IM-0105-0001.jpeg', '/content/drive/My Drive/Colab Notebooks/Covid19/Dataset/Normal/IM-0030-0001.jpeg', '/content/drive/My Drive/Colab Notebooks/Covid19/Dataset/Normal/IM-0033-0001.jpeg', '/content/drive/My Drive/Colab Notebooks/Covid19/Dataset/Normal/IM-0087-0001.jpeg', '/content/drive/My Drive/Colab Notebooks/Covid19/Dataset/Normal/IM-0022-0001.jpeg', '/content/drive/My Drive/Colab Notebooks/Covid19/Dataset/Normal/IM-0035-0001.jpeg', '/content/drive/My Drive/Colab Notebooks/Covid19/Dataset/Normal/IM-0099-0001.jpeg', '/content/drive/My Drive/Colab Notebooks/Covid19/Dataset/Normal/IM-0097-0001.jpeg', '/content/drive/My Drive/Colab Notebooks/Covid19/Dataset/Normal/IM-0110-0001.jpeg', '/content/drive/My Drive/Colab Notebooks/Covid19/Dataset/Normal/IM-0033-0001-0001.jpeg', '/content/drive/My Drive/Colab Notebooks/Covid19/Dataset/Normal/IM-0107-0001.jpeg', '/content/drive/My Drive/Colab Notebooks/Covid19/Dataset/Normal/IM-0109-0001.jpeg', '/content/drive/My Drive/Colab Notebooks/Covid19/Dataset/Normal/IM-0069-0001.jpeg', '/content/drive/My Drive/Colab Notebooks/Covid19/Dataset/Normal/IM-0025-0001.jpeg', '/content/drive/My Drive/Colab Notebooks/Covid19/Dataset/Normal/IM-0029-0001.jpeg', '/content/drive/My Drive/Colab Notebooks/Covid19/Dataset/Normal/IM-0170-0001.jpeg', '/content/drive/My Drive/Colab Notebooks/Covid19/Dataset/Normal/IM-0223-0001.jpeg', '/content/drive/My Drive/Colab Notebooks/Covid19/Dataset/Normal/IM-0372-0001.jpeg', '/content/drive/My Drive/Colab Notebooks/Covid19/Dataset/Normal/IM-0282-0001.jpeg', '/content/drive/My Drive/Colab Notebooks/Covid19/Dataset/Normal/IM-0387-0001.jpeg', '/content/drive/My Drive/Colab Notebooks/Covid19/Dataset/Normal/IM-0399-0001.jpeg', '/content/drive/My Drive/Colab Notebooks/Covid19/Dataset/Normal/IM-0162-0001.jpeg', '/content/drive/My Drive/Colab Notebooks/Covid19/Dataset/Normal/IM-0206-0001.jpeg', '/content/drive/My Drive/Colab Notebooks/Covid19/Dataset/Normal/IM-0278-0001.jpeg', '/content/drive/My Drive/Colab Notebooks/Covid19/Dataset/Normal/IM-0346-0001.jpeg', '/content/drive/My Drive/Colab Notebooks/Covid19/Dataset/Normal/IM-0409-0001.jpeg', '/content/drive/My Drive/Colab Notebooks/Covid19/Dataset/Normal/IM-0156-0001.jpeg', '/content/drive/My Drive/Colab Notebooks/Covid19/Dataset/Normal/IM-0413-0001.jpeg', '/content/drive/My Drive/Colab Notebooks/Covid19/Dataset/Normal/IM-0374-0001.jpeg', '/content/drive/My Drive/Colab Notebooks/Covid19/Dataset/Normal/IM-0333-0001.jpeg', '/content/drive/My Drive/Colab Notebooks/Covid19/Dataset/Normal/IM-0437-0001-0002.jpeg', '/content/drive/My Drive/Colab Notebooks/Covid19/Dataset/Normal/IM-0216-0001.jpeg', '/content/drive/My Drive/Colab Notebooks/Covid19/Dataset/Normal/IM-0429-0001-0002.jpeg', '/content/drive/My Drive/Colab Notebooks/Covid19/Dataset/Normal/IM-0230-0001.jpeg', '/content/drive/My Drive/Colab Notebooks/Covid19/Dataset/Normal/IM-0205-0001.jpeg', '/content/drive/My Drive/Colab Notebooks/Covid19/Dataset/Normal/IM-0375-0001.jpeg', '/content/drive/My Drive/Colab Notebooks/Covid19/Dataset/Normal/IM-0303-0001.jpeg', '/content/drive/My Drive/Colab Notebooks/Covid19/Dataset/Normal/IM-0265-0001.jpeg', '/content/drive/My Drive/Colab Notebooks/Covid19/Dataset/Normal/IM-0201-0001.jpeg', '/content/drive/My Drive/Colab Notebooks/Covid19/Dataset/Normal/IM-0326-0001.jpeg', '/content/drive/My Drive/Colab Notebooks/Covid19/Dataset/Normal/IM-0447-0001.jpeg', '/content/drive/My Drive/Colab Notebooks/Covid19/Dataset/Normal/IM-0405-0001.jpeg', '/content/drive/My Drive/Colab Notebooks/Covid19/Dataset/Normal/IM-0255-0001.jpeg', '/content/drive/My Drive/Colab Notebooks/Covid19/Dataset/Normal/IM-0362-0001.jpeg', '/content/drive/My Drive/Colab Notebooks/Covid19/Dataset/Normal/IM-0438-0001.jpeg', '/content/drive/My Drive/Colab Notebooks/Covid19/Dataset/Normal/IM-0195-0001.jpeg', '/content/drive/My Drive/Colab Notebooks/Covid19/Dataset/Normal/IM-0238-0001.jpeg', '/content/drive/My Drive/Colab Notebooks/Covid19/Dataset/Normal/IM-0286-0001.jpeg', '/content/drive/My Drive/Colab Notebooks/Covid19/Dataset/Normal/IM-0299-0001.jpeg', '/content/drive/My Drive/Colab Notebooks/Covid19/Dataset/Normal/IM-0306-0001.jpeg', '/content/drive/My Drive/Colab Notebooks/Covid19/Dataset/Normal/IM-0249-0001.jpeg', '/content/drive/My Drive/Colab Notebooks/Covid19/Dataset/Normal/IM-0229-0001.jpeg', '/content/drive/My Drive/Colab Notebooks/Covid19/Dataset/Normal/IM-0221-0001.jpeg', '/content/drive/My Drive/Colab Notebooks/Covid19/Dataset/Normal/IM-0417-0001.jpeg', '/content/drive/My Drive/Colab Notebooks/Covid19/Dataset/Normal/IM-0437-0001-0001.jpeg', '/content/drive/My Drive/Colab Notebooks/Covid19/Dataset/Normal/IM-0465-0001.jpeg', '/content/drive/My Drive/Colab Notebooks/Covid19/Dataset/Normal/IM-0274-0001.jpeg', '/content/drive/My Drive/Colab Notebooks/Covid19/Dataset/Normal/IM-0395-0001.jpeg', '/content/drive/My Drive/Colab Notebooks/Covid19/Dataset/Normal/IM-0368-0001.jpeg', '/content/drive/My Drive/Colab Notebooks/Covid19/Dataset/Normal/IM-0435-0001-0001.jpeg', '/content/drive/My Drive/Colab Notebooks/Covid19/Dataset/Normal/IM-0307-0001.jpeg', '/content/drive/My Drive/Colab Notebooks/Covid19/Dataset/Normal/IM-0297-0001.jpeg', '/content/drive/My Drive/Colab Notebooks/Covid19/Dataset/Normal/IM-0343-0001.jpeg', '/content/drive/My Drive/Colab Notebooks/Covid19/Dataset/Normal/IM-0411-0001.jpeg', '/content/drive/My Drive/Colab Notebooks/Covid19/Dataset/Normal/IM-0427-0001.jpeg', '/content/drive/My Drive/Colab Notebooks/Covid19/Dataset/Normal/IM-0301-0001.jpeg', '/content/drive/My Drive/Colab Notebooks/Covid19/Dataset/Normal/IM-0137-0001.jpeg', '/content/drive/My Drive/Colab Notebooks/Covid19/Dataset/Normal/IM-0319-0001.jpeg', '/content/drive/My Drive/Colab Notebooks/Covid19/Dataset/Normal/IM-0209-0001.jpeg', '/content/drive/My Drive/Colab Notebooks/Covid19/Dataset/Normal/IM-0459-0001.jpeg', '/content/drive/My Drive/Colab Notebooks/Covid19/Dataset/Normal/IM-0314-0001.jpeg', '/content/drive/My Drive/Colab Notebooks/Covid19/Dataset/Normal/IM-0131-0001.jpeg', '/content/drive/My Drive/Colab Notebooks/Covid19/Dataset/Normal/IM-0388-0001.jpeg', '/content/drive/My Drive/Colab Notebooks/Covid19/Dataset/Normal/IM-0323-0001.jpeg', '/content/drive/My Drive/Colab Notebooks/Covid19/Dataset/Normal/IM-0133-0001.jpeg', '/content/drive/My Drive/Colab Notebooks/Covid19/Dataset/Normal/IM-0355-0001.jpeg', '/content/drive/My Drive/Colab Notebooks/Covid19/Dataset/Normal/IM-0442-0001.jpeg', '/content/drive/My Drive/Colab Notebooks/Covid19/Dataset/Normal/IM-0369-0001.jpeg', '/content/drive/My Drive/Colab Notebooks/Covid19/Dataset/Normal/IM-0357-0001.jpeg', '/content/drive/My Drive/Colab Notebooks/Covid19/Dataset/Normal/IM-0183-0001.jpeg', '/content/drive/My Drive/Colab Notebooks/Covid19/Dataset/Normal/IM-0439-0001-0001.jpeg', '/content/drive/My Drive/Colab Notebooks/Covid19/Dataset/Normal/IM-0304-0001.jpeg', '/content/drive/My Drive/Colab Notebooks/Covid19/Dataset/Normal/IM-0324-0001.jpeg', '/content/drive/My Drive/Colab Notebooks/Covid19/Dataset/Normal/IM-0347-0001.jpeg', '/content/drive/My Drive/Colab Notebooks/Covid19/Dataset/Normal/IM-0467-0001.jpeg', '/content/drive/My Drive/Colab Notebooks/Covid19/Dataset/Normal/IM-0228-0001.jpeg', '/content/drive/My Drive/Colab Notebooks/Covid19/Dataset/Normal/IM-0250-0001.jpeg', '/content/drive/My Drive/Colab Notebooks/Covid19/Dataset/Normal/IM-0235-0001.jpeg', '/content/drive/My Drive/Colab Notebooks/Covid19/Dataset/Normal/IM-0440-0001.jpeg', '/content/drive/My Drive/Colab Notebooks/Covid19/Dataset/Normal/IM-0356-0001.jpeg', '/content/drive/My Drive/Colab Notebooks/Covid19/Dataset/Normal/IM-0453-0001.jpeg', '/content/drive/My Drive/Colab Notebooks/Covid19/Dataset/Normal/IM-0382-0001.jpeg', '/content/drive/My Drive/Colab Notebooks/Covid19/Dataset/Normal/IM-0176-0001.jpeg', '/content/drive/My Drive/Colab Notebooks/Covid19/Dataset/Normal/IM-0377-0001.jpeg', '/content/drive/My Drive/Colab Notebooks/Covid19/Dataset/Normal/IM-0439-0001-0002.jpeg', '/content/drive/My Drive/Colab Notebooks/Covid19/Dataset/Normal/IM-0452-0001.jpeg', '/content/drive/My Drive/Colab Notebooks/Covid19/Dataset/Normal/IM-0164-0001.jpeg', '/content/drive/My Drive/Colab Notebooks/Covid19/Dataset/Normal/IM-0215-0001.jpeg', '/content/drive/My Drive/Colab Notebooks/Covid19/Dataset/Normal/IM-0463-0001.jpeg', '/content/drive/My Drive/Colab Notebooks/Covid19/Dataset/Normal/IM-0280-0001.jpeg', '/content/drive/My Drive/Colab Notebooks/Covid19/Dataset/Normal/IM-0332-0001.jpeg', '/content/drive/My Drive/Colab Notebooks/Covid19/Dataset/Normal/IM-0269-0001.jpeg', '/content/drive/My Drive/Colab Notebooks/Covid19/Dataset/Normal/IM-0400-0001.jpeg', '/content/drive/My Drive/Colab Notebooks/Covid19/Dataset/Normal/IM-0193-0001.jpeg', '/content/drive/My Drive/Colab Notebooks/Covid19/Dataset/Normal/IM-0327-0001.jpeg', '/content/drive/My Drive/Colab Notebooks/Covid19/Dataset/Normal/IM-0140-0001.jpeg', '/content/drive/My Drive/Colab Notebooks/Covid19/Dataset/Normal/IM-0224-0001.jpeg', '/content/drive/My Drive/Colab Notebooks/Covid19/Dataset/Normal/IM-0446-0001.jpeg', '/content/drive/My Drive/Colab Notebooks/Covid19/Dataset/Normal/IM-0361-0001.jpeg', '/content/drive/My Drive/Colab Notebooks/Covid19/Dataset/Normal/IM-0277-0001.jpeg', '/content/drive/My Drive/Colab Notebooks/Covid19/Dataset/Normal/IM-0225-0001.jpeg', '/content/drive/My Drive/Colab Notebooks/Covid19/Dataset/Normal/IM-0305-0001.jpeg', '/content/drive/My Drive/Colab Notebooks/Covid19/Dataset/Normal/IM-0389-0001.jpeg', '/content/drive/My Drive/Colab Notebooks/Covid19/Dataset/Normal/IM-0410-0001.jpeg', '/content/drive/My Drive/Colab Notebooks/Covid19/Dataset/Normal/IM-0241-0001.jpeg', '/content/drive/My Drive/Colab Notebooks/Covid19/Dataset/Normal/IM-0365-0001.jpeg', '/content/drive/My Drive/Colab Notebooks/Covid19/Dataset/Normal/IM-0257-0001.jpeg', '/content/drive/My Drive/Colab Notebooks/Covid19/Dataset/Normal/IM-0429-0001-0001.jpeg', '/content/drive/My Drive/Colab Notebooks/Covid19/Dataset/Normal/IM-0363-0001.jpeg', '/content/drive/My Drive/Colab Notebooks/Covid19/Dataset/Normal/IM-0456-0001.jpeg', '/content/drive/My Drive/Colab Notebooks/Covid19/Dataset/Normal/IM-0154-0001.jpeg', '/content/drive/My Drive/Colab Notebooks/Covid19/Dataset/Normal/IM-0401-0001.jpeg', '/content/drive/My Drive/Colab Notebooks/Covid19/Dataset/Normal/IM-0403-0001.jpeg', '/content/drive/My Drive/Colab Notebooks/Covid19/Dataset/Normal/IM-0464-0001.jpeg', '/content/drive/My Drive/Colab Notebooks/Covid19/Dataset/Normal/IM-0467-0001-0001.jpeg', '/content/drive/My Drive/Colab Notebooks/Covid19/Dataset/Normal/IM-0359-0001.jpeg', '/content/drive/My Drive/Colab Notebooks/Covid19/Dataset/Normal/IM-0308-0001.jpeg', '/content/drive/My Drive/Colab Notebooks/Covid19/Dataset/Normal/IM-0292-0001.jpeg', '/content/drive/My Drive/Colab Notebooks/Covid19/Dataset/Normal/IM-0449-0001.jpeg', '/content/drive/My Drive/Colab Notebooks/Covid19/Dataset/Normal/IM-0218-0001.jpeg', '/content/drive/My Drive/Colab Notebooks/Covid19/Dataset/Normal/IM-0237-0001.jpeg', '/content/drive/My Drive/Colab Notebooks/Covid19/Dataset/Normal/IM-0217-0001.jpeg', '/content/drive/My Drive/Colab Notebooks/Covid19/Dataset/Normal/IM-0455-0001.jpeg', '/content/drive/My Drive/Colab Notebooks/Covid19/Dataset/Normal/IM-0419-0001.jpeg', '/content/drive/My Drive/Colab Notebooks/Covid19/Dataset/Normal/IM-0430-0001.jpeg', '/content/drive/My Drive/Colab Notebooks/Covid19/Dataset/Normal/IM-0457-0001.jpeg', '/content/drive/My Drive/Colab Notebooks/Covid19/Dataset/Normal/IM-0370-0001.jpeg', '/content/drive/My Drive/Colab Notebooks/Covid19/Dataset/Normal/IM-0302-0001.jpeg', '/content/drive/My Drive/Colab Notebooks/Covid19/Dataset/Normal/IM-0187-0001.jpeg', '/content/drive/My Drive/Colab Notebooks/Covid19/Dataset/Normal/IM-0239-0001.jpeg', '/content/drive/My Drive/Colab Notebooks/Covid19/Dataset/Normal/IM-0340-0001.jpeg', '/content/drive/My Drive/Colab Notebooks/Covid19/Dataset/Normal/IM-0245-0001.jpeg', '/content/drive/My Drive/Colab Notebooks/Covid19/Dataset/Normal/IM-0285-0001.jpeg', '/content/drive/My Drive/Colab Notebooks/Covid19/Dataset/Normal/IM-0425-0001.jpeg', '/content/drive/My Drive/Colab Notebooks/Covid19/Dataset/Normal/IM-0320-0001.jpeg', '/content/drive/My Drive/Colab Notebooks/Covid19/Dataset/Normal/IM-0335-0001.jpeg', '/content/drive/My Drive/Colab Notebooks/Covid19/Dataset/Normal/IM-0351-0001.jpeg', '/content/drive/My Drive/Colab Notebooks/Covid19/Dataset/Normal/IM-0266-0001.jpeg', '/content/drive/My Drive/Colab Notebooks/Covid19/Dataset/Normal/IM-0312-0001.jpeg', '/content/drive/My Drive/Colab Notebooks/Covid19/Dataset/Normal/IM-0453-0001-0002.jpeg', '/content/drive/My Drive/Colab Notebooks/Covid19/Dataset/Normal/IM-0129-0001.jpeg', '/content/drive/My Drive/Colab Notebooks/Covid19/Dataset/Normal/IM-0149-0001.jpeg', '/content/drive/My Drive/Colab Notebooks/Covid19/Dataset/Normal/IM-0367-0001.jpeg', '/content/drive/My Drive/Colab Notebooks/Covid19/Dataset/Normal/IM-0213-0001.jpeg', '/content/drive/My Drive/Colab Notebooks/Covid19/Dataset/Normal/IM-0219-0001.jpeg', '/content/drive/My Drive/Colab Notebooks/Covid19/Dataset/Normal/IM-0293-0001.jpeg', '/content/drive/My Drive/Colab Notebooks/Covid19/Dataset/Normal/IM-0391-0001.jpeg', '/content/drive/My Drive/Colab Notebooks/Covid19/Dataset/Normal/IM-0289-0001.jpeg', '/content/drive/My Drive/Colab Notebooks/Covid19/Dataset/Normal/IM-0178-0001.jpeg', '/content/drive/My Drive/Colab Notebooks/Covid19/Dataset/Normal/IM-0444-0001.jpeg', '/content/drive/My Drive/Colab Notebooks/Covid19/Dataset/Normal/IM-0386-0001.jpeg', '/content/drive/My Drive/Colab Notebooks/Covid19/Dataset/Normal/IM-0451-0001.jpeg', '/content/drive/My Drive/Colab Notebooks/Covid19/Dataset/Normal/IM-0353-0001.jpeg', '/content/drive/My Drive/Colab Notebooks/Covid19/Dataset/Normal/IM-0119-0001.jpeg', '/content/drive/My Drive/Colab Notebooks/Covid19/Dataset/Normal/IM-0166-0001.jpeg', '/content/drive/My Drive/Colab Notebooks/Covid19/Dataset/Normal/IM-0448-0001.jpeg', '/content/drive/My Drive/Colab Notebooks/Covid19/Dataset/Normal/IM-0331-0001.jpeg', '/content/drive/My Drive/Colab Notebooks/Covid19/Dataset/Normal/IM-0189-0001.jpeg', '/content/drive/My Drive/Colab Notebooks/Covid19/Dataset/Normal/IM-0115-0001.jpeg', '/content/drive/My Drive/Colab Notebooks/Covid19/Dataset/Normal/IM-0450-0001.jpeg', '/content/drive/My Drive/Colab Notebooks/Covid19/Dataset/Normal/IM-0421-0001.jpeg', '/content/drive/My Drive/Colab Notebooks/Covid19/Dataset/Normal/IM-0261-0001.jpeg', '/content/drive/My Drive/Colab Notebooks/Covid19/Dataset/Normal/IM-0317-0001.jpeg', '/content/drive/My Drive/Colab Notebooks/Covid19/Dataset/Normal/IM-0408-0001.jpeg', '/content/drive/My Drive/Colab Notebooks/Covid19/Dataset/Normal/IM-0283-0001.jpeg', '/content/drive/My Drive/Colab Notebooks/Covid19/Dataset/Normal/IM-0461-0001.jpeg', '/content/drive/My Drive/Colab Notebooks/Covid19/Dataset/Normal/IM-0437-0001.jpeg', '/content/drive/My Drive/Colab Notebooks/Covid19/Dataset/Normal/IM-0172-0001.jpeg', '/content/drive/My Drive/Colab Notebooks/Covid19/Dataset/Normal/IM-0211-0001.jpeg', '/content/drive/My Drive/Colab Notebooks/Covid19/Dataset/Normal/IM-0392-0001.jpeg', '/content/drive/My Drive/Colab Notebooks/Covid19/Dataset/Normal/IM-0441-0001.jpeg', '/content/drive/My Drive/Colab Notebooks/Covid19/Dataset/Normal/IM-0431-0001.jpeg', '/content/drive/My Drive/Colab Notebooks/Covid19/Dataset/Normal/IM-0127-0001.jpeg', '/content/drive/My Drive/Colab Notebooks/Covid19/Dataset/Normal/IM-0311-0001.jpeg', '/content/drive/My Drive/Colab Notebooks/Covid19/Dataset/Normal/IM-0152-0001.jpeg', '/content/drive/My Drive/Colab Notebooks/Covid19/Dataset/Normal/IM-0300-0001.jpeg', '/content/drive/My Drive/Colab Notebooks/Covid19/Dataset/Normal/IM-0384-0001.jpeg', '/content/drive/My Drive/Colab Notebooks/Covid19/Dataset/Normal/IM-0416-0001.jpeg', '/content/drive/My Drive/Colab Notebooks/Covid19/Dataset/Normal/IM-0381-0001.jpeg', '/content/drive/My Drive/Colab Notebooks/Covid19/Dataset/Normal/IM-0243-0001.jpeg', '/content/drive/My Drive/Colab Notebooks/Covid19/Dataset/Normal/IM-0273-0001.jpeg', '/content/drive/My Drive/Colab Notebooks/Covid19/Dataset/Normal/IM-0295-0001.jpeg', '/content/drive/My Drive/Colab Notebooks/Covid19/Dataset/Normal/IM-0145-0001.jpeg', '/content/drive/My Drive/Colab Notebooks/Covid19/Dataset/Normal/IM-0290-0001.jpeg', '/content/drive/My Drive/Colab Notebooks/Covid19/Dataset/Normal/IM-0354-0001.jpeg', '/content/drive/My Drive/Colab Notebooks/Covid19/Dataset/Normal/IM-0348-0001.jpeg', '/content/drive/My Drive/Colab Notebooks/Covid19/Dataset/Normal/IM-0191-0001.jpeg', '/content/drive/My Drive/Colab Notebooks/Covid19/Dataset/Normal/IM-0207-0001.jpeg', '/content/drive/My Drive/Colab Notebooks/Covid19/Dataset/Normal/IM-0177-0001.jpeg', '/content/drive/My Drive/Colab Notebooks/Covid19/Dataset/Normal/IM-0379-0001.jpeg', '/content/drive/My Drive/Colab Notebooks/Covid19/Dataset/Normal/IM-0460-0001.jpeg', '/content/drive/My Drive/Colab Notebooks/Covid19/Dataset/Normal/IM-0125-0001.jpeg', '/content/drive/My Drive/Colab Notebooks/Covid19/Dataset/Normal/IM-0236-0001.jpeg', '/content/drive/My Drive/Colab Notebooks/Covid19/Dataset/Normal/IM-0434-0001.jpeg', '/content/drive/My Drive/Colab Notebooks/Covid19/Dataset/Normal/IM-0276-0001.jpeg', '/content/drive/My Drive/Colab Notebooks/Covid19/Dataset/Normal/IM-0272-0001.jpeg', '/content/drive/My Drive/Colab Notebooks/Covid19/Dataset/Normal/IM-0316-0001.jpeg', '/content/drive/My Drive/Colab Notebooks/Covid19/Dataset/Normal/IM-0338-0001.jpeg', '/content/drive/My Drive/Colab Notebooks/Covid19/Dataset/Normal/IM-0210-0001.jpeg', '/content/drive/My Drive/Colab Notebooks/Covid19/Dataset/Normal/IM-0432-0001.jpeg', '/content/drive/My Drive/Colab Notebooks/Covid19/Dataset/Normal/IM-0318-0001.jpeg', '/content/drive/My Drive/Colab Notebooks/Covid19/Dataset/Normal/IM-0234-0001.jpeg', '/content/drive/My Drive/Colab Notebooks/Covid19/Dataset/Normal/IM-0220-0001.jpeg', '/content/drive/My Drive/Colab Notebooks/Covid19/Dataset/Normal/IM-0349-0001.jpeg', '/content/drive/My Drive/Colab Notebooks/Covid19/Dataset/Normal/IM-0341-0001.jpeg', '/content/drive/My Drive/Colab Notebooks/Covid19/Dataset/Normal/IM-0404-0001.jpeg', '/content/drive/My Drive/Colab Notebooks/Covid19/Dataset/Normal/IM-0227-0001.jpeg', '/content/drive/My Drive/Colab Notebooks/Covid19/Dataset/Normal/IM-0394-0001.jpeg', '/content/drive/My Drive/Colab Notebooks/Covid19/Dataset/Normal/IM-0383-0001.jpeg', '/content/drive/My Drive/Colab Notebooks/Covid19/Dataset/Normal/IM-0298-0001.jpeg', '/content/drive/My Drive/Colab Notebooks/Covid19/Dataset/Normal/IM-0244-0001.jpeg', '/content/drive/My Drive/Colab Notebooks/Covid19/Dataset/Normal/IM-0291-0001.jpeg', '/content/drive/My Drive/Colab Notebooks/Covid19/Dataset/Normal/IM-0424-0001.jpeg', '/content/drive/My Drive/Colab Notebooks/Covid19/Dataset/Normal/IM-0122-0001.jpeg', '/content/drive/My Drive/Colab Notebooks/Covid19/Dataset/Normal/IM-0385-0001.jpeg', '/content/drive/My Drive/Colab Notebooks/Covid19/Dataset/Normal/IM-0240-0001.jpeg', '/content/drive/My Drive/Colab Notebooks/Covid19/Dataset/Normal/IM-0423-0001.jpeg', '/content/drive/My Drive/Colab Notebooks/Covid19/Dataset/Normal/IM-0128-0001.jpeg', '/content/drive/My Drive/Colab Notebooks/Covid19/Dataset/Normal/IM-0329-0001.jpeg', '/content/drive/My Drive/Colab Notebooks/Covid19/Dataset/Normal/IM-0135-0001.jpeg', '/content/drive/My Drive/Colab Notebooks/Covid19/Dataset/Normal/IM-0309-0001.jpeg', '/content/drive/My Drive/Colab Notebooks/Covid19/Dataset/Normal/IM-0466-0001.jpeg', '/content/drive/My Drive/Colab Notebooks/Covid19/Dataset/Normal/IM-0242-0001.jpeg', '/content/drive/My Drive/Colab Notebooks/Covid19/Dataset/Normal/IM-0182-0001.jpeg', '/content/drive/My Drive/Colab Notebooks/Covid19/Dataset/Normal/IM-0143-0001.jpeg', '/content/drive/My Drive/Colab Notebooks/Covid19/Dataset/Normal/IM-0151-0001.jpeg', '/content/drive/My Drive/Colab Notebooks/Covid19/Dataset/Normal/IM-0214-0001.jpeg', '/content/drive/My Drive/Colab Notebooks/Covid19/Dataset/Normal/IM-0339-0001.jpeg', '/content/drive/My Drive/Colab Notebooks/Covid19/Dataset/Normal/IM-0294-0001.jpeg', '/content/drive/My Drive/Colab Notebooks/Covid19/Dataset/Normal/IM-0429-0001.jpeg', '/content/drive/My Drive/Colab Notebooks/Covid19/Dataset/Normal/IM-0199-0001.jpeg', '/content/drive/My Drive/Colab Notebooks/Covid19/Dataset/Normal/IM-0345-0001.jpeg', '/content/drive/My Drive/Colab Notebooks/Covid19/Dataset/Normal/IM-0350-0001.jpeg', '/content/drive/My Drive/Colab Notebooks/Covid19/Dataset/Normal/IM-0268-0001.jpeg', '/content/drive/My Drive/Colab Notebooks/Covid19/Dataset/Normal/IM-0337-0001.jpeg', '/content/drive/My Drive/Colab Notebooks/Covid19/Dataset/Normal/IM-0256-0001.jpeg', '/content/drive/My Drive/Colab Notebooks/Covid19/Dataset/Normal/IM-0222-0001.jpeg', '/content/drive/My Drive/Colab Notebooks/Covid19/Dataset/Normal/IM-0393-0001.jpeg', '/content/drive/My Drive/Colab Notebooks/Covid19/Dataset/Normal/IM-0270-0001.jpeg', '/content/drive/My Drive/Colab Notebooks/Covid19/Dataset/Normal/IM-0226-0001.jpeg', '/content/drive/My Drive/Colab Notebooks/Covid19/Dataset/Normal/IM-0288-0001.jpeg', '/content/drive/My Drive/Colab Notebooks/Covid19/Dataset/Normal/IM-0141-0001.jpeg', '/content/drive/My Drive/Colab Notebooks/Covid19/Dataset/Normal/IM-0358-0001.jpeg', '/content/drive/My Drive/Colab Notebooks/Covid19/Dataset/Normal/IM-0458-0001.jpeg', '/content/drive/My Drive/Colab Notebooks/Covid19/Dataset/Normal/IM-0420-0001.jpeg', '/content/drive/My Drive/Colab Notebooks/Covid19/Dataset/Normal/IM-0433-0001.jpeg', '/content/drive/My Drive/Colab Notebooks/Covid19/Dataset/Normal/IM-0279-0001.jpeg', '/content/drive/My Drive/Colab Notebooks/Covid19/Dataset/Normal/IM-0160-0001.jpeg', '/content/drive/My Drive/Colab Notebooks/Covid19/Dataset/Normal/IM-0439-0001.jpeg', '/content/drive/My Drive/Colab Notebooks/Covid19/Dataset/Normal/IM-0147-0001.jpeg', '/content/drive/My Drive/Colab Notebooks/Covid19/Dataset/Normal/IM-0325-0001.jpeg', '/content/drive/My Drive/Colab Notebooks/Covid19/Dataset/Normal/IM-0371-0001.jpeg', '/content/drive/My Drive/Colab Notebooks/Covid19/Dataset/Normal/IM-0117-0001.jpeg', '/content/drive/My Drive/Colab Notebooks/Covid19/Dataset/Normal/IM-0203-0001.jpeg', '/content/drive/My Drive/Colab Notebooks/Covid19/Dataset/Normal/IM-0180-0001.jpeg', '/content/drive/My Drive/Colab Notebooks/Covid19/Dataset/Normal/IM-0168-0001.jpeg', '/content/drive/My Drive/Colab Notebooks/Covid19/Dataset/Normal/IM-0264-0001.jpeg', '/content/drive/My Drive/Colab Notebooks/Covid19/Dataset/Normal/IM-0315-0001.jpeg', '/content/drive/My Drive/Colab Notebooks/Covid19/Dataset/Normal/IM-0253-0001.jpeg', '/content/drive/My Drive/Colab Notebooks/Covid19/Dataset/Normal/IM-0262-0001.jpeg', '/content/drive/My Drive/Colab Notebooks/Covid19/Dataset/Normal/IM-0313-0001.jpeg', '/content/drive/My Drive/Colab Notebooks/Covid19/Dataset/Normal/IM-0445-0001.jpeg', '/content/drive/My Drive/Colab Notebooks/Covid19/Dataset/Normal/IM-0428-0001.jpeg', '/content/drive/My Drive/Colab Notebooks/Covid19/Dataset/Normal/IM-0158-0001.jpeg', '/content/drive/My Drive/Colab Notebooks/Covid19/Dataset/Normal/IM-0435-0001.jpeg', '/content/drive/My Drive/Colab Notebooks/Covid19/Dataset/Normal/IM-0185-0001.jpeg', '/content/drive/My Drive/Colab Notebooks/Covid19/Dataset/Normal/IM-0414-0001.jpeg', '/content/drive/My Drive/Colab Notebooks/Covid19/Dataset/Normal/IM-0330-0001.jpeg', '/content/drive/My Drive/Colab Notebooks/Covid19/Dataset/Normal/IM-0248-0001.jpeg', '/content/drive/My Drive/Colab Notebooks/Covid19/Dataset/Normal/IM-0275-0001.jpeg', '/content/drive/My Drive/Colab Notebooks/Covid19/Dataset/Normal/IM-0251-0001.jpeg', '/content/drive/My Drive/Colab Notebooks/Covid19/Dataset/Normal/IM-0364-0001.jpeg', '/content/drive/My Drive/Colab Notebooks/Covid19/Dataset/Normal/IM-0231-0001.jpeg']\n"
          ],
          "name": "stdout"
        }
      ]
    },
    {
      "cell_type": "markdown",
      "metadata": {
        "id": "rQIPpuJJ4Xgk",
        "colab_type": "text"
      },
      "source": [
        "## Preprocessing the X-ray images"
      ]
    },
    {
      "cell_type": "code",
      "metadata": {
        "id": "C9qaB_gzlxZd",
        "colab_type": "code",
        "outputId": "35ca7dc1-4eee-48cc-de8e-09aa2ceaa5eb",
        "colab": {
          "base_uri": "https://localhost:8080/",
          "height": 52
        }
      },
      "source": [
        "start = time.time()\n",
        "\n",
        "print(\"[INFO] Processing X-ray images\")\n",
        "# grab the list of images in our dataset directory, then initialize\n",
        "# the list of data (i.e., images) and class images\n",
        "imagePaths = list(paths.list_images(file_path))\n",
        "data = []\n",
        "labels = []\n",
        "# loop over the image paths\n",
        "\n",
        "i = 0\n",
        "for imagePath in imagePaths:\n",
        "\n",
        "\t# extract the class label from the filename\n",
        "\tlabel = imagePath.split(os.path.sep)[-2]\n",
        "\t# load the image, swap color channels, and resize it to be a fixed\n",
        "\t# 224x224 pixels while ignoring aspect ratio\n",
        "\timage = cv2.imread(imagePath)\n",
        "\timage = cv2.cvtColor(image, cv2.COLOR_BGR2RGB)\n",
        "\timage = cv2.resize(image, (224, 224))\n",
        "\t# update the data and labels lists, respectively\n",
        "\tdata.append(image)\n",
        "\tlabels.append(label)\n",
        " \n",
        "# convert the data and labels to NumPy arrays while scaling the pixel\n",
        "# intensities to the range [0, 1]\n",
        "data = np.array(data) / 255.0\n",
        "labels = np.array(labels)\n",
        "\n",
        "\n",
        "\n",
        "# print(\"[INFO] Saving processed images as array\")\n",
        "save_path_data = path + \"data\"\n",
        "save_path_labels = path + \"labels\"\n",
        "\n",
        "np.save(save_path_data, data)\n",
        "np.save(save_path_labels, labels)\n",
        "\n",
        "print(\"[INFO] It took {:.2f} seconds\".format(time.time() - start))"
      ],
      "execution_count": 53,
      "outputs": [
        {
          "output_type": "stream",
          "text": [
            "[INFO] Processing X-ray images\n",
            "[INFO] It took 28.65 seconds\n"
          ],
          "name": "stdout"
        }
      ]
    },
    {
      "cell_type": "code",
      "metadata": {
        "id": "3yFOfgzsKIJX",
        "colab_type": "code",
        "outputId": "38a02a0d-7aea-4b37-e5dd-2b3afaa1682f",
        "colab": {
          "base_uri": "https://localhost:8080/",
          "height": 34
        }
      },
      "source": [
        "print(\"[INFO] Pixels matrix: {:.2f}MB\".format(data.nbytes / (1024 * 1000.0)))\n"
      ],
      "execution_count": 37,
      "outputs": [
        {
          "output_type": "stream",
          "text": [
            "[INFO] Pixels matrix: 792.62MB\n"
          ],
          "name": "stdout"
        }
      ]
    },
    {
      "cell_type": "markdown",
      "metadata": {
        "id": "ZK8HM8cTdzUO",
        "colab_type": "text"
      },
      "source": [
        "## Loading Images "
      ]
    },
    {
      "cell_type": "code",
      "metadata": {
        "id": "al_Vq4zjdyQh",
        "colab_type": "code",
        "colab": {}
      },
      "source": [
        "# data = []\n",
        "# labels = []\n",
        "\n",
        "# print(\"[INFO] Loading images\")\n",
        "# data = np.load(\"data.npy\")\n",
        "# labels = np.load(\"labels.npy\")\n",
        "# print(\"[INFO] All images has been loaded\")"
      ],
      "execution_count": 0,
      "outputs": []
    },
    {
      "cell_type": "markdown",
      "metadata": {
        "id": "g8EOVBTt4n-4",
        "colab_type": "text"
      },
      "source": [
        "##  One-hot encoding of the labels and creating the training/testing splits "
      ]
    },
    {
      "cell_type": "code",
      "metadata": {
        "id": "HKfGIR5pl2gV",
        "colab_type": "code",
        "outputId": "903ef45b-b228-4160-ceb6-d99b02696729",
        "colab": {
          "base_uri": "https://localhost:8080/",
          "height": 69
        }
      },
      "source": [
        "print(\"[INFO] Performing one-hot enconding on the labels\")\n",
        "lb = LabelBinarizer()\n",
        "labels = lb.fit_transform(labels)\n",
        "labels = to_categorical(labels)\n",
        "\n",
        "\n",
        "print(\"[INFO] Partitioning the data into training and testing\")\n",
        "# partition the data into training and testing splits using 80% of\n",
        "# the data for training and the remaining 20% for testing\n",
        "(trainX, testX, trainY, testY) = train_test_split(data, labels,\n",
        "\ttest_size=0.20, stratify=labels, random_state=42)\n",
        "\n",
        "print(\"[INFO] Initializing the training data augmentation object\")\n",
        "trainAug = ImageDataGenerator(\n",
        "\trotation_range=15,\n",
        "\tfill_mode=\"nearest\")\n"
      ],
      "execution_count": 39,
      "outputs": [
        {
          "output_type": "stream",
          "text": [
            "[INFO] Performing one-hot enconding on the labels\n",
            "[INFO] Partitioning the data into training and testing\n",
            "[INFO] Initializing the training data augmentation object\n"
          ],
          "name": "stdout"
        }
      ]
    },
    {
      "cell_type": "markdown",
      "metadata": {
        "id": "thLDwbrg5hy-",
        "colab_type": "text"
      },
      "source": [
        "## The Model"
      ]
    },
    {
      "cell_type": "code",
      "metadata": {
        "id": "NnSl7jfRnL_o",
        "colab_type": "code",
        "outputId": "74fec777-025c-4c08-9e03-2c82e4d0bda4",
        "colab": {
          "base_uri": "https://localhost:8080/",
          "height": 52
        }
      },
      "source": [
        "# From here we will initialize our VGGNet model and set it up for fine-tuning:\n",
        "\n",
        "print(\"[INFO] Initializing the VGGNet model \")\n",
        "# load the VGG16 network, ensuring the head FC layer sets are left\n",
        "# off\n",
        "baseModel = VGG16(weights=\"imagenet\", include_top=False,\n",
        "\tinput_tensor=Input(shape=(224, 224, 3)))\n",
        "# construct the head of the model that will be placed on top of the\n",
        "# the base model\n",
        "headModel = baseModel.output\n",
        "headModel = AveragePooling2D(pool_size=(4, 4))(headModel)\n",
        "headModel = Flatten(name=\"flatten\")(headModel)\n",
        "headModel = Dense(64, activation=\"relu\")(headModel) #64\n",
        "headModel = Dropout(0.5)(headModel)\n",
        "headModel = Dense(2, activation=\"softmax\")(headModel)\n",
        "# place the head FC model on top of the base model (this will become\n",
        "# the actual model we will train)\n",
        "model = Model(inputs=baseModel.input, outputs=headModel)\n",
        "# loop over all layers in the base model and freeze them so they will\n",
        "# *not* be updated during the first training process\n",
        "for layer in baseModel.layers:\n",
        "\tlayer.trainable = False\n",
        "  \n",
        "print(\"[INFO] VGGNet model initiated\")"
      ],
      "execution_count": 40,
      "outputs": [
        {
          "output_type": "stream",
          "text": [
            "[INFO] Initializing the VGGNet model \n",
            "[INFO] VGGNet model initiated\n"
          ],
          "name": "stdout"
        }
      ]
    },
    {
      "cell_type": "markdown",
      "metadata": {
        "id": "fWzrwIlB9J2o",
        "colab_type": "text"
      },
      "source": [
        "##Compiling and training the model \n"
      ]
    },
    {
      "cell_type": "code",
      "metadata": {
        "id": "oxqKK_88p5iK",
        "colab_type": "code",
        "outputId": "35c3c959-4f43-41e5-9d86-4d02d123ef68",
        "colab": {
          "base_uri": "https://localhost:8080/",
          "height": 1000
        }
      },
      "source": [
        "# We’re now ready to compile and train our COVID-19 (coronavirus) deep learning model:\n",
        "start = time.time()\n",
        "# compile our model\n",
        "print(\"[INFO] Compiling model...\")\n",
        "opt = Adam(lr=INIT_LR, decay=INIT_LR / EPOCHS)\n",
        "model.compile(loss=\"binary_crossentropy\", optimizer=opt,\n",
        "\tmetrics=[\"accuracy\"])\n",
        "# train the head of the network\n",
        "print(\"[INFO] Training head...\")\n",
        "H = model.fit_generator(\n",
        "\ttrainAug.flow(trainX, trainY, batch_size=BS),\n",
        "\tsteps_per_epoch=len(trainX) // BS,\n",
        "\tvalidation_data=(testX, testY),\n",
        "\tvalidation_steps=len(testX) // BS,\n",
        "\tepochs=EPOCHS)\n",
        "\n",
        "print(\"[INFO] It took {:.2f} seconds\".format(time.time() - start))"
      ],
      "execution_count": 41,
      "outputs": [
        {
          "output_type": "stream",
          "text": [
            "[INFO] Compiling model...\n",
            "[INFO] Training head...\n",
            "Epoch 1/25\n",
            "67/67 [==============================] - ETA: 0s - loss: 0.4873 - accuracy: 0.7873WARNING:tensorflow:Your input ran out of data; interrupting training. Make sure that your dataset or generator can generate at least `steps_per_epoch * epochs` batches (in this case, 16 batches). You may need to use the repeat() function when building your dataset.\n",
            "67/67 [==============================] - 12s 182ms/step - loss: 0.4873 - accuracy: 0.7873 - val_loss: 0.2870 - val_accuracy: 0.9630\n",
            "Epoch 2/25\n",
            "67/67 [==============================] - ETA: 0s - loss: 0.2263 - accuracy: 0.9397WARNING:tensorflow:Your input ran out of data; interrupting training. Make sure that your dataset or generator can generate at least `steps_per_epoch * epochs` batches (in this case, 16 batches). You may need to use the repeat() function when building your dataset.\n",
            "67/67 [==============================] - 11s 158ms/step - loss: 0.2263 - accuracy: 0.9397 - val_loss: 0.1731 - val_accuracy: 0.9556\n",
            "Epoch 3/25\n",
            "67/67 [==============================] - ETA: 0s - loss: 0.1521 - accuracy: 0.9586WARNING:tensorflow:Your input ran out of data; interrupting training. Make sure that your dataset or generator can generate at least `steps_per_epoch * epochs` batches (in this case, 16 batches). You may need to use the repeat() function when building your dataset.\n",
            "67/67 [==============================] - 11s 158ms/step - loss: 0.1521 - accuracy: 0.9586 - val_loss: 0.1595 - val_accuracy: 0.9333\n",
            "Epoch 4/25\n",
            "67/67 [==============================] - ETA: 0s - loss: 0.1085 - accuracy: 0.9680WARNING:tensorflow:Your input ran out of data; interrupting training. Make sure that your dataset or generator can generate at least `steps_per_epoch * epochs` batches (in this case, 16 batches). You may need to use the repeat() function when building your dataset.\n",
            "67/67 [==============================] - 11s 158ms/step - loss: 0.1085 - accuracy: 0.9680 - val_loss: 0.1058 - val_accuracy: 0.9556\n",
            "Epoch 5/25\n",
            "67/67 [==============================] - ETA: 0s - loss: 0.0924 - accuracy: 0.9736WARNING:tensorflow:Your input ran out of data; interrupting training. Make sure that your dataset or generator can generate at least `steps_per_epoch * epochs` batches (in this case, 16 batches). You may need to use the repeat() function when building your dataset.\n",
            "67/67 [==============================] - 11s 159ms/step - loss: 0.0924 - accuracy: 0.9736 - val_loss: 0.0910 - val_accuracy: 0.9556\n",
            "Epoch 6/25\n",
            "67/67 [==============================] - ETA: 0s - loss: 0.0865 - accuracy: 0.9680WARNING:tensorflow:Your input ran out of data; interrupting training. Make sure that your dataset or generator can generate at least `steps_per_epoch * epochs` batches (in this case, 16 batches). You may need to use the repeat() function when building your dataset.\n",
            "67/67 [==============================] - 11s 159ms/step - loss: 0.0865 - accuracy: 0.9680 - val_loss: 0.0802 - val_accuracy: 0.9630\n",
            "Epoch 7/25\n",
            "67/67 [==============================] - ETA: 0s - loss: 0.0723 - accuracy: 0.9793WARNING:tensorflow:Your input ran out of data; interrupting training. Make sure that your dataset or generator can generate at least `steps_per_epoch * epochs` batches (in this case, 16 batches). You may need to use the repeat() function when building your dataset.\n",
            "67/67 [==============================] - 11s 158ms/step - loss: 0.0723 - accuracy: 0.9793 - val_loss: 0.0726 - val_accuracy: 0.9704\n",
            "Epoch 8/25\n",
            "67/67 [==============================] - ETA: 0s - loss: 0.0814 - accuracy: 0.9736WARNING:tensorflow:Your input ran out of data; interrupting training. Make sure that your dataset or generator can generate at least `steps_per_epoch * epochs` batches (in this case, 16 batches). You may need to use the repeat() function when building your dataset.\n",
            "67/67 [==============================] - 10s 157ms/step - loss: 0.0814 - accuracy: 0.9736 - val_loss: 0.0668 - val_accuracy: 0.9778\n",
            "Epoch 9/25\n",
            "67/67 [==============================] - ETA: 0s - loss: 0.0728 - accuracy: 0.9774WARNING:tensorflow:Your input ran out of data; interrupting training. Make sure that your dataset or generator can generate at least `steps_per_epoch * epochs` batches (in this case, 16 batches). You may need to use the repeat() function when building your dataset.\n",
            "67/67 [==============================] - 11s 157ms/step - loss: 0.0728 - accuracy: 0.9774 - val_loss: 0.0758 - val_accuracy: 0.9778\n",
            "Epoch 10/25\n",
            "67/67 [==============================] - ETA: 0s - loss: 0.0589 - accuracy: 0.9812WARNING:tensorflow:Your input ran out of data; interrupting training. Make sure that your dataset or generator can generate at least `steps_per_epoch * epochs` batches (in this case, 16 batches). You may need to use the repeat() function when building your dataset.\n",
            "67/67 [==============================] - 10s 156ms/step - loss: 0.0589 - accuracy: 0.9812 - val_loss: 0.0569 - val_accuracy: 0.9778\n",
            "Epoch 11/25\n",
            "67/67 [==============================] - ETA: 0s - loss: 0.0576 - accuracy: 0.9755WARNING:tensorflow:Your input ran out of data; interrupting training. Make sure that your dataset or generator can generate at least `steps_per_epoch * epochs` batches (in this case, 16 batches). You may need to use the repeat() function when building your dataset.\n",
            "67/67 [==============================] - 11s 157ms/step - loss: 0.0576 - accuracy: 0.9755 - val_loss: 0.0629 - val_accuracy: 0.9778\n",
            "Epoch 12/25\n",
            "67/67 [==============================] - ETA: 0s - loss: 0.0677 - accuracy: 0.9793WARNING:tensorflow:Your input ran out of data; interrupting training. Make sure that your dataset or generator can generate at least `steps_per_epoch * epochs` batches (in this case, 16 batches). You may need to use the repeat() function when building your dataset.\n",
            "67/67 [==============================] - 10s 156ms/step - loss: 0.0677 - accuracy: 0.9793 - val_loss: 0.0530 - val_accuracy: 0.9852\n",
            "Epoch 13/25\n",
            "67/67 [==============================] - ETA: 0s - loss: 0.0365 - accuracy: 0.9925WARNING:tensorflow:Your input ran out of data; interrupting training. Make sure that your dataset or generator can generate at least `steps_per_epoch * epochs` batches (in this case, 16 batches). You may need to use the repeat() function when building your dataset.\n",
            "67/67 [==============================] - 10s 156ms/step - loss: 0.0365 - accuracy: 0.9925 - val_loss: 0.0586 - val_accuracy: 0.9778\n",
            "Epoch 14/25\n",
            "67/67 [==============================] - ETA: 0s - loss: 0.0418 - accuracy: 0.9906WARNING:tensorflow:Your input ran out of data; interrupting training. Make sure that your dataset or generator can generate at least `steps_per_epoch * epochs` batches (in this case, 16 batches). You may need to use the repeat() function when building your dataset.\n",
            "67/67 [==============================] - 10s 156ms/step - loss: 0.0418 - accuracy: 0.9906 - val_loss: 0.0424 - val_accuracy: 0.9926\n",
            "Epoch 15/25\n",
            "67/67 [==============================] - ETA: 0s - loss: 0.0419 - accuracy: 0.9887WARNING:tensorflow:Your input ran out of data; interrupting training. Make sure that your dataset or generator can generate at least `steps_per_epoch * epochs` batches (in this case, 16 batches). You may need to use the repeat() function when building your dataset.\n",
            "67/67 [==============================] - 10s 156ms/step - loss: 0.0419 - accuracy: 0.9887 - val_loss: 0.0675 - val_accuracy: 0.9778\n",
            "Epoch 16/25\n",
            "67/67 [==============================] - ETA: 0s - loss: 0.0403 - accuracy: 0.9868WARNING:tensorflow:Your input ran out of data; interrupting training. Make sure that your dataset or generator can generate at least `steps_per_epoch * epochs` batches (in this case, 16 batches). You may need to use the repeat() function when building your dataset.\n",
            "67/67 [==============================] - 10s 155ms/step - loss: 0.0403 - accuracy: 0.9868 - val_loss: 0.0582 - val_accuracy: 0.9778\n",
            "Epoch 17/25\n",
            "67/67 [==============================] - ETA: 0s - loss: 0.0343 - accuracy: 0.9944WARNING:tensorflow:Your input ran out of data; interrupting training. Make sure that your dataset or generator can generate at least `steps_per_epoch * epochs` batches (in this case, 16 batches). You may need to use the repeat() function when building your dataset.\n",
            "67/67 [==============================] - 10s 156ms/step - loss: 0.0343 - accuracy: 0.9944 - val_loss: 0.0453 - val_accuracy: 0.9852\n",
            "Epoch 18/25\n",
            "67/67 [==============================] - ETA: 0s - loss: 0.0506 - accuracy: 0.9831WARNING:tensorflow:Your input ran out of data; interrupting training. Make sure that your dataset or generator can generate at least `steps_per_epoch * epochs` batches (in this case, 16 batches). You may need to use the repeat() function when building your dataset.\n",
            "67/67 [==============================] - 10s 156ms/step - loss: 0.0506 - accuracy: 0.9831 - val_loss: 0.0444 - val_accuracy: 0.9852\n",
            "Epoch 19/25\n",
            "67/67 [==============================] - ETA: 0s - loss: 0.0378 - accuracy: 0.9831WARNING:tensorflow:Your input ran out of data; interrupting training. Make sure that your dataset or generator can generate at least `steps_per_epoch * epochs` batches (in this case, 16 batches). You may need to use the repeat() function when building your dataset.\n",
            "67/67 [==============================] - 10s 156ms/step - loss: 0.0378 - accuracy: 0.9831 - val_loss: 0.0336 - val_accuracy: 0.9926\n",
            "Epoch 20/25\n",
            "67/67 [==============================] - ETA: 0s - loss: 0.0436 - accuracy: 0.9812WARNING:tensorflow:Your input ran out of data; interrupting training. Make sure that your dataset or generator can generate at least `steps_per_epoch * epochs` batches (in this case, 16 batches). You may need to use the repeat() function when building your dataset.\n",
            "67/67 [==============================] - 10s 155ms/step - loss: 0.0436 - accuracy: 0.9812 - val_loss: 0.0616 - val_accuracy: 0.9778\n",
            "Epoch 21/25\n",
            "67/67 [==============================] - ETA: 0s - loss: 0.0235 - accuracy: 0.9962WARNING:tensorflow:Your input ran out of data; interrupting training. Make sure that your dataset or generator can generate at least `steps_per_epoch * epochs` batches (in this case, 16 batches). You may need to use the repeat() function when building your dataset.\n",
            "67/67 [==============================] - 10s 155ms/step - loss: 0.0235 - accuracy: 0.9962 - val_loss: 0.0346 - val_accuracy: 0.9926\n",
            "Epoch 22/25\n",
            "67/67 [==============================] - ETA: 0s - loss: 0.0300 - accuracy: 0.9906WARNING:tensorflow:Your input ran out of data; interrupting training. Make sure that your dataset or generator can generate at least `steps_per_epoch * epochs` batches (in this case, 16 batches). You may need to use the repeat() function when building your dataset.\n",
            "67/67 [==============================] - 10s 156ms/step - loss: 0.0300 - accuracy: 0.9906 - val_loss: 0.0650 - val_accuracy: 0.9778\n",
            "Epoch 23/25\n",
            "67/67 [==============================] - ETA: 0s - loss: 0.0431 - accuracy: 0.9849WARNING:tensorflow:Your input ran out of data; interrupting training. Make sure that your dataset or generator can generate at least `steps_per_epoch * epochs` batches (in this case, 16 batches). You may need to use the repeat() function when building your dataset.\n",
            "67/67 [==============================] - 10s 155ms/step - loss: 0.0431 - accuracy: 0.9849 - val_loss: 0.0407 - val_accuracy: 0.9926\n",
            "Epoch 24/25\n",
            "67/67 [==============================] - ETA: 0s - loss: 0.0291 - accuracy: 0.9906WARNING:tensorflow:Your input ran out of data; interrupting training. Make sure that your dataset or generator can generate at least `steps_per_epoch * epochs` batches (in this case, 16 batches). You may need to use the repeat() function when building your dataset.\n",
            "67/67 [==============================] - 10s 155ms/step - loss: 0.0291 - accuracy: 0.9906 - val_loss: 0.0516 - val_accuracy: 0.9852\n",
            "Epoch 25/25\n",
            "67/67 [==============================] - ETA: 0s - loss: 0.0286 - accuracy: 0.9925WARNING:tensorflow:Your input ran out of data; interrupting training. Make sure that your dataset or generator can generate at least `steps_per_epoch * epochs` batches (in this case, 16 batches). You may need to use the repeat() function when building your dataset.\n",
            "67/67 [==============================] - 10s 155ms/step - loss: 0.0286 - accuracy: 0.9925 - val_loss: 0.0440 - val_accuracy: 0.9926\n",
            "[INFO] It took 269.03 seconds\n"
          ],
          "name": "stdout"
        }
      ]
    },
    {
      "cell_type": "markdown",
      "metadata": {
        "id": "2lBvSE7y5-40",
        "colab_type": "text"
      },
      "source": [
        "## Evaluating the model "
      ]
    },
    {
      "cell_type": "code",
      "metadata": {
        "id": "4aoEKKLjp-PS",
        "colab_type": "code",
        "outputId": "45e66081-f13a-43d2-bea6-6a18521a04f8",
        "colab": {
          "base_uri": "https://localhost:8080/",
          "height": 191
        }
      },
      "source": [
        "# make predictions on the testing set\n",
        "print(\"[INFO] Evaluating network...\")\n",
        "predIdxs = model.predict(testX, batch_size=BS)\n",
        "# for each image in the testing set we need to find the index of the\n",
        "# label with corresponding largest predicted probability\n",
        "predIdxs = np.argmax(predIdxs, axis=1)\n",
        "# show a nicely formatted classification report\n",
        "print(classification_report(testY.argmax(axis=1), predIdxs,\ttarget_names=lb.classes_))"
      ],
      "execution_count": 42,
      "outputs": [
        {
          "output_type": "stream",
          "text": [
            "[INFO] Evaluating network...\n",
            "              precision    recall  f1-score   support\n",
            "\n",
            "       Covid       0.99      1.00      0.99        67\n",
            "      Normal       1.00      0.99      0.99        68\n",
            "\n",
            "    accuracy                           0.99       135\n",
            "   macro avg       0.99      0.99      0.99       135\n",
            "weighted avg       0.99      0.99      0.99       135\n",
            "\n"
          ],
          "name": "stdout"
        }
      ]
    },
    {
      "cell_type": "code",
      "metadata": {
        "id": "e_8NvK12qB1p",
        "colab_type": "code",
        "outputId": "ef7cac2e-fe1c-4098-e294-53c9f13bed8c",
        "colab": {
          "base_uri": "https://localhost:8080/",
          "height": 69
        }
      },
      "source": [
        "# Next we’ll compute a confusion matrix for further statistical evaluation:\n",
        "\n",
        "# compute the confusion matrix and and use it to derive the raw\n",
        "# accuracy, sensitivity, and specificity\n",
        "cm = confusion_matrix(testY.argmax(axis=1), predIdxs)\n",
        "total = sum(sum(cm))\n",
        "acc = (cm[0, 0] + cm[1, 1]) / total\n",
        "sensitivity = cm[0, 0] / (cm[0, 0] + cm[0, 1])\n",
        "specificity = cm[1, 1] / (cm[1, 0] + cm[1, 1])\n",
        "# show the confusion matrix, accuracy, sensitivity, and specificity\n",
        "# print(cm)\n",
        "print(\"Accuracy: {:.4f}%\".format(acc*100))\n",
        "print(\"Sensitivity: {:.4f}%\".format(sensitivity*100))\n",
        "print(\"Specificity: {:.4f}%\".format(specificity*100))\n"
      ],
      "execution_count": 43,
      "outputs": [
        {
          "output_type": "stream",
          "text": [
            "Accuracy: 99.2593%\n",
            "Sensitivity: 100.0000%\n",
            "Specificity: 98.5294%\n"
          ],
          "name": "stdout"
        }
      ]
    },
    {
      "cell_type": "markdown",
      "metadata": {
        "id": "1_xOgM8l6Q8s",
        "colab_type": "text"
      },
      "source": [
        "## Ploting the training accuracy/loss \n"
      ]
    },
    {
      "cell_type": "code",
      "metadata": {
        "id": "BiVu77aiqI8d",
        "colab_type": "code",
        "outputId": "f7f9dcb4-612c-4ee4-b379-0b07836f88ac",
        "colab": {
          "base_uri": "https://localhost:8080/",
          "height": 299
        }
      },
      "source": [
        "# We then plot our training accuracy/loss history for inspection, outputting the plot to an image file:\n",
        "\n",
        "# plot the training loss and accuracy\n",
        "N = EPOCHS\n",
        "plt.style.use(\"ggplot\")\n",
        "plt.figure()\n",
        "plt.plot(np.arange(0, N), H.history[\"loss\"], label=\"train_loss\")\n",
        "plt.plot(np.arange(0, N), H.history[\"val_loss\"], label=\"val_loss\")\n",
        "plt.plot(np.arange(0, N), H.history[\"accuracy\"], label=\"train_acc\")\n",
        "plt.plot(np.arange(0, N), H.history[\"val_accuracy\"], label=\"val_acc\")\n",
        "plt.title(\"Training Loss and Accuracy on COVID-19 Dataset\")\n",
        "plt.xlabel(\"Epoch\")\n",
        "plt.ylabel(\"Loss/Accuracy\")\n",
        "plt.legend(loc=\"center right\")\n",
        "plt.savefig(args[1])"
      ],
      "execution_count": 44,
      "outputs": [
        {
          "output_type": "display_data",
          "data": {
            "image/png": "[encoded data removed]",
            "text/plain": [
              "<Figure size 432x288 with 1 Axes>"
            ]
          },
          "metadata": {
            "tags": []
          }
        }
      ]
    },
    {
      "cell_type": "markdown",
      "metadata": {
        "id": "eJb2XpVZ6d_L",
        "colab_type": "text"
      },
      "source": [
        "##Saving the model "
      ]
    },
    {
      "cell_type": "code",
      "metadata": {
        "id": "HZbL3-MeqM_J",
        "colab_type": "code",
        "outputId": "7dd285f0-658b-4402-e3d5-9abe3a074b68",
        "colab": {
          "base_uri": "https://localhost:8080/",
          "height": 52
        }
      },
      "source": [
        "# Finally we serialize our tf.keras COVID-19 classifier model to disk:\n",
        "\n",
        "# serialize the model to disk\n",
        "model_name = path + \"covid19_\" + str(time.time()) + \".model\" \n",
        "\n",
        "print(\"[INFO] Saving COVID-19 detector model...\")\n",
        "model.save(model_name, save_format=\"h5\")\n",
        "print(\"[INFO] COVID-19 model saved\")"
      ],
      "execution_count": 47,
      "outputs": [
        {
          "output_type": "stream",
          "text": [
            "[INFO] Saving COVID-19 detector model...\n",
            "[INFO] COVID-19 model saved\n"
          ],
          "name": "stdout"
        }
      ]
    },
    {
      "cell_type": "code",
      "metadata": {
        "id": "98t6mtBuqQso",
        "colab_type": "code",
        "colab": {}
      },
      "source": [
        ""
      ],
      "execution_count": 0,
      "outputs": []
    }
  ]
}