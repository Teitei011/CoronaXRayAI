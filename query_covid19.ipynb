{
  "nbformat": 4,
  "nbformat_minor": 0,
  "metadata": {
    "colab": {
      "name": "query_covid19.ipynb",
      "provenance": [],
      "collapsed_sections": []
    },
    "kernelspec": {
      "name": "python3",
      "display_name": "Python 3"
    }
  },
  "cells": [
    {
      "cell_type": "code",
      "metadata": {
        "id": "ryszlO0NN3Jr",
        "colab_type": "code",
        "colab": {}
      },
      "source": [
        "import cv2\n",
        "import tensorflow as tf\n",
        "\n",
        "CATEGORIES = [\"Covid19\", \"Normal\"]\n",
        "\n",
        "\n",
        "def prepare(filepath):\n",
        "    IMG_SIZE = 224 \n",
        "    img_array = cv2.imread(filepath, cv2.IMREAD_GRAYSCALE)\n",
        "    new_array = cv2.resize(img_array, (IMG_SIZE, IMG_SIZE))\n",
        "    return new_array.reshape(-1, IMG_SIZE, IMG_SIZE, 1)\n",
        "\n",
        "\n",
        "model = tf.keras.models.load_model(\"covid19_1588605424.0118995.model\")\n",
        "\n",
        "prediction = model.predict([prepare('doggo.jpg')])\n",
        "print(prediction)  # will be a list in a list.\n",
        "print(CATEGORIES[int(prediction[0][0])])"
      ],
      "execution_count": 0,
      "outputs": []
    }
  ]
}